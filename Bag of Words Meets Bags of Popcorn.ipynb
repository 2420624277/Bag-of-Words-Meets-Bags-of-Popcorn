{
 "cells": [
  {
   "cell_type": "code",
   "execution_count": 1,
   "metadata": {},
   "outputs": [],
   "source": [
    "# Import the pandas package, then use the \"read_csv\" function to read\n",
    "# the labeled training data\n",
    "import pandas as pd       \n",
    "train = pd.read_csv(\"labeledTrainData.tsv\", header=0, \\\n",
    "                    delimiter=\"\\t\", quoting=3)"
   ]
  },
  {
   "cell_type": "code",
   "execution_count": 2,
   "metadata": {},
   "outputs": [
    {
     "data": {
      "text/plain": [
       "(25000, 3)"
      ]
     },
     "execution_count": 2,
     "metadata": {},
     "output_type": "execute_result"
    }
   ],
   "source": [
    "train.shape"
   ]
  },
  {
   "cell_type": "code",
   "execution_count": 3,
   "metadata": {},
   "outputs": [
    {
     "data": {
      "text/plain": [
       "array(['id', 'sentiment', 'review'], dtype=object)"
      ]
     },
     "execution_count": 3,
     "metadata": {},
     "output_type": "execute_result"
    }
   ],
   "source": [
    "train.columns.values"
   ]
  },
  {
   "cell_type": "code",
   "execution_count": 4,
   "metadata": {},
   "outputs": [
    {
     "name": "stdout",
     "output_type": "stream",
     "text": [
      "\"With all this stuff going down at the moment with MJ i've started listening to his music, watching the odd documentary here and there, watched The Wiz and watched Moonwalker again. Maybe i just want to get a certain insight into this guy who i thought was really cool in the eighties just to maybe make up my mind whether he is guilty or innocent. Moonwalker is part biography, part feature film which i remember going to see at the cinema when it was originally released. Some of it has subtle messages about MJ's feeling towards the press and also the obvious message of drugs are bad m'kay.<br /><br />Visually impressive but of course this is all about Michael Jackson so unless you remotely like MJ in anyway then you are going to hate this and find it boring. Some may call MJ an egotist for consenting to the making of this movie BUT MJ and most of his fans would say that he made it for the fans which if true is really nice of him.<br /><br />The actual feature film bit when it finally starts is only on for 20 minutes or so excluding the Smooth Criminal sequence and Joe Pesci is convincing as a psychopathic all powerful drug lord. Why he wants MJ dead so bad is beyond me. Because MJ overheard his plans? Nah, Joe Pesci's character ranted that he wanted people to know it is he who is supplying drugs etc so i dunno, maybe he just hates MJ's music.<br /><br />Lots of cool things in this like MJ turning into a car and a robot and the whole Speed Demon sequence. Also, the director must have had the patience of a saint when it came to filming the kiddy Bad sequence as usually directors hate working with one kid let alone a whole bunch of them performing a complex dance scene.<br /><br />Bottom line, this movie is for people who like MJ on one level or another (which i think is most people). If not, then stay away. It does try and give off a wholesome message and ironically MJ's bestest buddy in this movie is a girl! Michael Jackson is truly one of the most talented people ever to grace this planet but is he guilty? Well, with all the attention i've gave this subject....hmmm well i don't know because people can be different behind closed doors, i know this for a fact. He is either an extremely nice but stupid guy or one of the most sickest liars. I hope he is not the latter.\"\n"
     ]
    }
   ],
   "source": [
    "print(train[\"review\"][0])"
   ]
  },
  {
   "cell_type": "code",
   "execution_count": 5,
   "metadata": {},
   "outputs": [
    {
     "name": "stdout",
     "output_type": "stream",
     "text": [
      "\"With all this stuff going down at the moment with MJ i've started listening to his music, watching the odd documentary here and there, watched The Wiz and watched Moonwalker again. Maybe i just want to get a certain insight into this guy who i thought was really cool in the eighties just to maybe make up my mind whether he is guilty or innocent. Moonwalker is part biography, part feature film which i remember going to see at the cinema when it was originally released. Some of it has subtle messages about MJ's feeling towards the press and also the obvious message of drugs are bad m'kay.<br /><br />Visually impressive but of course this is all about Michael Jackson so unless you remotely like MJ in anyway then you are going to hate this and find it boring. Some may call MJ an egotist for consenting to the making of this movie BUT MJ and most of his fans would say that he made it for the fans which if true is really nice of him.<br /><br />The actual feature film bit when it finally starts is only on for 20 minutes or so excluding the Smooth Criminal sequence and Joe Pesci is convincing as a psychopathic all powerful drug lord. Why he wants MJ dead so bad is beyond me. Because MJ overheard his plans? Nah, Joe Pesci's character ranted that he wanted people to know it is he who is supplying drugs etc so i dunno, maybe he just hates MJ's music.<br /><br />Lots of cool things in this like MJ turning into a car and a robot and the whole Speed Demon sequence. Also, the director must have had the patience of a saint when it came to filming the kiddy Bad sequence as usually directors hate working with one kid let alone a whole bunch of them performing a complex dance scene.<br /><br />Bottom line, this movie is for people who like MJ on one level or another (which i think is most people). If not, then stay away. It does try and give off a wholesome message and ironically MJ's bestest buddy in this movie is a girl! Michael Jackson is truly one of the most talented people ever to grace this planet but is he guilty? Well, with all the attention i've gave this subject....hmmm well i don't know because people can be different behind closed doors, i know this for a fact. He is either an extremely nice but stupid guy or one of the most sickest liars. I hope he is not the latter.\"\n",
      "\"With all this stuff going down at the moment with MJ i've started listening to his music, watching the odd documentary here and there, watched The Wiz and watched Moonwalker again. Maybe i just want to get a certain insight into this guy who i thought was really cool in the eighties just to maybe make up my mind whether he is guilty or innocent. Moonwalker is part biography, part feature film which i remember going to see at the cinema when it was originally released. Some of it has subtle messages about MJ's feeling towards the press and also the obvious message of drugs are bad m'kay.Visually impressive but of course this is all about Michael Jackson so unless you remotely like MJ in anyway then you are going to hate this and find it boring. Some may call MJ an egotist for consenting to the making of this movie BUT MJ and most of his fans would say that he made it for the fans which if true is really nice of him.The actual feature film bit when it finally starts is only on for 20 minutes or so excluding the Smooth Criminal sequence and Joe Pesci is convincing as a psychopathic all powerful drug lord. Why he wants MJ dead so bad is beyond me. Because MJ overheard his plans? Nah, Joe Pesci's character ranted that he wanted people to know it is he who is supplying drugs etc so i dunno, maybe he just hates MJ's music.Lots of cool things in this like MJ turning into a car and a robot and the whole Speed Demon sequence. Also, the director must have had the patience of a saint when it came to filming the kiddy Bad sequence as usually directors hate working with one kid let alone a whole bunch of them performing a complex dance scene.Bottom line, this movie is for people who like MJ on one level or another (which i think is most people). If not, then stay away. It does try and give off a wholesome message and ironically MJ's bestest buddy in this movie is a girl! Michael Jackson is truly one of the most talented people ever to grace this planet but is he guilty? Well, with all the attention i've gave this subject....hmmm well i don't know because people can be different behind closed doors, i know this for a fact. He is either an extremely nice but stupid guy or one of the most sickest liars. I hope he is not the latter.\"\n"
     ]
    }
   ],
   "source": [
    "# Import BeautifulSoup into your workspace\n",
    "from bs4 import BeautifulSoup             \n",
    "\n",
    "# Initialize the BeautifulSoup object on a single movie review     \n",
    "example1 = BeautifulSoup(train[\"review\"][0])  \n",
    "\n",
    "# Print the raw review and then the output of get_text(), for \n",
    "# comparison\n",
    "print(train[\"review\"][0])\n",
    "print(example1.get_text())"
   ]
  },
  {
   "cell_type": "code",
   "execution_count": 6,
   "metadata": {},
   "outputs": [
    {
     "name": "stdout",
     "output_type": "stream",
     "text": [
      " With all this stuff going down at the moment with MJ i ve started listening to his music  watching the odd documentary here and there  watched The Wiz and watched Moonwalker again  Maybe i just want to get a certain insight into this guy who i thought was really cool in the eighties just to maybe make up my mind whether he is guilty or innocent  Moonwalker is part biography  part feature film which i remember going to see at the cinema when it was originally released  Some of it has subtle messages about MJ s feeling towards the press and also the obvious message of drugs are bad m kay Visually impressive but of course this is all about Michael Jackson so unless you remotely like MJ in anyway then you are going to hate this and find it boring  Some may call MJ an egotist for consenting to the making of this movie BUT MJ and most of his fans would say that he made it for the fans which if true is really nice of him The actual feature film bit when it finally starts is only on for    minutes or so excluding the Smooth Criminal sequence and Joe Pesci is convincing as a psychopathic all powerful drug lord  Why he wants MJ dead so bad is beyond me  Because MJ overheard his plans  Nah  Joe Pesci s character ranted that he wanted people to know it is he who is supplying drugs etc so i dunno  maybe he just hates MJ s music Lots of cool things in this like MJ turning into a car and a robot and the whole Speed Demon sequence  Also  the director must have had the patience of a saint when it came to filming the kiddy Bad sequence as usually directors hate working with one kid let alone a whole bunch of them performing a complex dance scene Bottom line  this movie is for people who like MJ on one level or another  which i think is most people   If not  then stay away  It does try and give off a wholesome message and ironically MJ s bestest buddy in this movie is a girl  Michael Jackson is truly one of the most talented people ever to grace this planet but is he guilty  Well  with all the attention i ve gave this subject    hmmm well i don t know because people can be different behind closed doors  i know this for a fact  He is either an extremely nice but stupid guy or one of the most sickest liars  I hope he is not the latter  \n"
     ]
    }
   ],
   "source": [
    "import re\n",
    "# Use regular expressions to do a find-and-replace\n",
    "letters_only = re.sub(\"[^a-zA-Z]\",           # The pattern to search for\n",
    "                      \" \",                   # The pattern to replace it with\n",
    "                      example1.get_text() )  # The text to search\n",
    "print(letters_only)"
   ]
  },
  {
   "cell_type": "code",
   "execution_count": 7,
   "metadata": {},
   "outputs": [],
   "source": [
    "lower_case = letters_only.lower()        # Convert to lower case\n",
    "words = lower_case.split()               # Split into words"
   ]
  },
  {
   "cell_type": "code",
   "execution_count": 9,
   "metadata": {},
   "outputs": [],
   "source": [
    "import nltk\n",
    " # Download text data sets, including stop words"
   ]
  },
  {
   "cell_type": "code",
   "execution_count": 10,
   "metadata": {},
   "outputs": [
    {
     "name": "stdout",
     "output_type": "stream",
     "text": [
      "['i', 'me', 'my', 'myself', 'we', 'our', 'ours', 'ourselves', 'you', \"you're\", \"you've\", \"you'll\", \"you'd\", 'your', 'yours', 'yourself', 'yourselves', 'he', 'him', 'his', 'himself', 'she', \"she's\", 'her', 'hers', 'herself', 'it', \"it's\", 'its', 'itself', 'they', 'them', 'their', 'theirs', 'themselves', 'what', 'which', 'who', 'whom', 'this', 'that', \"that'll\", 'these', 'those', 'am', 'is', 'are', 'was', 'were', 'be', 'been', 'being', 'have', 'has', 'had', 'having', 'do', 'does', 'did', 'doing', 'a', 'an', 'the', 'and', 'but', 'if', 'or', 'because', 'as', 'until', 'while', 'of', 'at', 'by', 'for', 'with', 'about', 'against', 'between', 'into', 'through', 'during', 'before', 'after', 'above', 'below', 'to', 'from', 'up', 'down', 'in', 'out', 'on', 'off', 'over', 'under', 'again', 'further', 'then', 'once', 'here', 'there', 'when', 'where', 'why', 'how', 'all', 'any', 'both', 'each', 'few', 'more', 'most', 'other', 'some', 'such', 'no', 'nor', 'not', 'only', 'own', 'same', 'so', 'than', 'too', 'very', 's', 't', 'can', 'will', 'just', 'don', \"don't\", 'should', \"should've\", 'now', 'd', 'll', 'm', 'o', 're', 've', 'y', 'ain', 'aren', \"aren't\", 'couldn', \"couldn't\", 'didn', \"didn't\", 'doesn', \"doesn't\", 'hadn', \"hadn't\", 'hasn', \"hasn't\", 'haven', \"haven't\", 'isn', \"isn't\", 'ma', 'mightn', \"mightn't\", 'mustn', \"mustn't\", 'needn', \"needn't\", 'shan', \"shan't\", 'shouldn', \"shouldn't\", 'wasn', \"wasn't\", 'weren', \"weren't\", 'won', \"won't\", 'wouldn', \"wouldn't\"]\n"
     ]
    }
   ],
   "source": [
    "from nltk.corpus import stopwords # Import the stop word list\n",
    "print(stopwords.words(\"english\"))"
   ]
  },
  {
   "cell_type": "code",
   "execution_count": 11,
   "metadata": {},
   "outputs": [
    {
     "name": "stdout",
     "output_type": "stream",
     "text": [
      "['stuff', 'going', 'moment', 'mj', 'started', 'listening', 'music', 'watching', 'odd', 'documentary', 'watched', 'wiz', 'watched', 'moonwalker', 'maybe', 'want', 'get', 'certain', 'insight', 'guy', 'thought', 'really', 'cool', 'eighties', 'maybe', 'make', 'mind', 'whether', 'guilty', 'innocent', 'moonwalker', 'part', 'biography', 'part', 'feature', 'film', 'remember', 'going', 'see', 'cinema', 'originally', 'released', 'subtle', 'messages', 'mj', 'feeling', 'towards', 'press', 'also', 'obvious', 'message', 'drugs', 'bad', 'kay', 'visually', 'impressive', 'course', 'michael', 'jackson', 'unless', 'remotely', 'like', 'mj', 'anyway', 'going', 'hate', 'find', 'boring', 'may', 'call', 'mj', 'egotist', 'consenting', 'making', 'movie', 'mj', 'fans', 'would', 'say', 'made', 'fans', 'true', 'really', 'nice', 'actual', 'feature', 'film', 'bit', 'finally', 'starts', 'minutes', 'excluding', 'smooth', 'criminal', 'sequence', 'joe', 'pesci', 'convincing', 'psychopathic', 'powerful', 'drug', 'lord', 'wants', 'mj', 'dead', 'bad', 'beyond', 'mj', 'overheard', 'plans', 'nah', 'joe', 'pesci', 'character', 'ranted', 'wanted', 'people', 'know', 'supplying', 'drugs', 'etc', 'dunno', 'maybe', 'hates', 'mj', 'music', 'lots', 'cool', 'things', 'like', 'mj', 'turning', 'car', 'robot', 'whole', 'speed', 'demon', 'sequence', 'also', 'director', 'must', 'patience', 'saint', 'came', 'filming', 'kiddy', 'bad', 'sequence', 'usually', 'directors', 'hate', 'working', 'one', 'kid', 'let', 'alone', 'whole', 'bunch', 'performing', 'complex', 'dance', 'scene', 'bottom', 'line', 'movie', 'people', 'like', 'mj', 'one', 'level', 'another', 'think', 'people', 'stay', 'away', 'try', 'give', 'wholesome', 'message', 'ironically', 'mj', 'bestest', 'buddy', 'movie', 'girl', 'michael', 'jackson', 'truly', 'one', 'talented', 'people', 'ever', 'grace', 'planet', 'guilty', 'well', 'attention', 'gave', 'subject', 'hmmm', 'well', 'know', 'people', 'different', 'behind', 'closed', 'doors', 'know', 'fact', 'either', 'extremely', 'nice', 'stupid', 'guy', 'one', 'sickest', 'liars', 'hope', 'latter']\n"
     ]
    }
   ],
   "source": [
    "# Remove stop words from \"words\"\n",
    "words = [w for w in words if not w in stopwords.words(\"english\")]\n",
    "print(words)"
   ]
  },
  {
   "cell_type": "code",
   "execution_count": 12,
   "metadata": {},
   "outputs": [],
   "source": [
    "def review_to_words( raw_review ):\n",
    "    # Function to convert a raw review to a string of words\n",
    "    # The input is a single string (a raw movie review), and \n",
    "    # the output is a single string (a preprocessed movie review)\n",
    "    #\n",
    "    # 1. Remove HTML\n",
    "    review_text = BeautifulSoup(raw_review).get_text() \n",
    "    #\n",
    "    # 2. Remove non-letters        \n",
    "    letters_only = re.sub(\"[^a-zA-Z]\", \" \", review_text) \n",
    "    #\n",
    "    # 3. Convert to lower case, split into individual words\n",
    "    words = letters_only.lower().split()                             \n",
    "    #\n",
    "    # 4. In Python, searching a set is much faster than searching\n",
    "    #   a list, so convert the stop words to a set\n",
    "    stops = set(stopwords.words(\"english\"))                  \n",
    "    # \n",
    "    # 5. Remove stop words\n",
    "    meaningful_words = [w for w in words if not w in stops]   \n",
    "    #\n",
    "    # 6. Join the words back into one string separated by space, \n",
    "    # and return the result.\n",
    "    return( \" \".join( meaningful_words ))   "
   ]
  },
  {
   "cell_type": "code",
   "execution_count": 13,
   "metadata": {},
   "outputs": [
    {
     "name": "stdout",
     "output_type": "stream",
     "text": [
      "stuff going moment mj started listening music watching odd documentary watched wiz watched moonwalker maybe want get certain insight guy thought really cool eighties maybe make mind whether guilty innocent moonwalker part biography part feature film remember going see cinema originally released subtle messages mj feeling towards press also obvious message drugs bad kay visually impressive course michael jackson unless remotely like mj anyway going hate find boring may call mj egotist consenting making movie mj fans would say made fans true really nice actual feature film bit finally starts minutes excluding smooth criminal sequence joe pesci convincing psychopathic powerful drug lord wants mj dead bad beyond mj overheard plans nah joe pesci character ranted wanted people know supplying drugs etc dunno maybe hates mj music lots cool things like mj turning car robot whole speed demon sequence also director must patience saint came filming kiddy bad sequence usually directors hate working one kid let alone whole bunch performing complex dance scene bottom line movie people like mj one level another think people stay away try give wholesome message ironically mj bestest buddy movie girl michael jackson truly one talented people ever grace planet guilty well attention gave subject hmmm well know people different behind closed doors know fact either extremely nice stupid guy one sickest liars hope latter\n"
     ]
    }
   ],
   "source": [
    "clean_review = review_to_words( train[\"review\"][0] )\n",
    "print(clean_review)"
   ]
  },
  {
   "cell_type": "code",
   "execution_count": 14,
   "metadata": {},
   "outputs": [],
   "source": [
    "# Get the number of reviews based on the dataframe column size\n",
    "num_reviews = train[\"review\"].size\n",
    "\n",
    "# Initialize an empty list to hold the clean reviews\n",
    "clean_train_reviews = []\n",
    "\n",
    "# Loop over each review; create an index i that goes from 0 to the length\n",
    "# of the movie review list \n",
    "for i in range(0, num_reviews):\n",
    "    # Call our function for each one, and add the result to the list of\n",
    "    # clean reviews\n",
    "    clean_train_reviews.append( review_to_words( train[\"review\"][i] ) )"
   ]
  },
  {
   "cell_type": "code",
   "execution_count": 15,
   "metadata": {},
   "outputs": [
    {
     "name": "stdout",
     "output_type": "stream",
     "text": [
      "Cleaning and parsing the training set movie reviews...\n",
      "\n",
      "Review 1000 of 25000\n",
      "\n",
      "Review 2000 of 25000\n",
      "\n",
      "Review 3000 of 25000\n",
      "\n",
      "Review 4000 of 25000\n",
      "\n",
      "Review 5000 of 25000\n",
      "\n",
      "Review 6000 of 25000\n",
      "\n",
      "Review 7000 of 25000\n",
      "\n",
      "Review 8000 of 25000\n",
      "\n",
      "Review 9000 of 25000\n",
      "\n",
      "Review 10000 of 25000\n",
      "\n",
      "Review 11000 of 25000\n",
      "\n",
      "Review 12000 of 25000\n",
      "\n",
      "Review 13000 of 25000\n",
      "\n",
      "Review 14000 of 25000\n",
      "\n",
      "Review 15000 of 25000\n",
      "\n",
      "Review 16000 of 25000\n",
      "\n",
      "Review 17000 of 25000\n",
      "\n",
      "Review 18000 of 25000\n",
      "\n",
      "Review 19000 of 25000\n",
      "\n",
      "Review 20000 of 25000\n",
      "\n",
      "Review 21000 of 25000\n",
      "\n",
      "Review 22000 of 25000\n",
      "\n",
      "Review 23000 of 25000\n",
      "\n",
      "Review 24000 of 25000\n",
      "\n",
      "Review 25000 of 25000\n",
      "\n"
     ]
    }
   ],
   "source": [
    "print(\"Cleaning and parsing the training set movie reviews...\\n\")\n",
    "clean_train_reviews = []\n",
    "for i in range( 0, num_reviews):\n",
    "    # If the index is evenly divisible by 1000, print a message\n",
    "    if( (i+1)%1000 == 0 ):\n",
    "        print(\"Review %d of %d\\n\" % ( i+1, num_reviews ))                                                                   \n",
    "    clean_train_reviews.append( review_to_words( train[\"review\"][i] ))"
   ]
  },
  {
   "cell_type": "code",
   "execution_count": 16,
   "metadata": {},
   "outputs": [
    {
     "name": "stdout",
     "output_type": "stream",
     "text": [
      "Creating the bag of words...\n",
      "\n"
     ]
    }
   ],
   "source": [
    "print(\"Creating the bag of words...\\n\")\n",
    "from sklearn.feature_extraction.text import CountVectorizer\n",
    "\n",
    "# Initialize the \"CountVectorizer\" object, which is scikit-learn's\n",
    "# bag of words tool.  \n",
    "vectorizer = CountVectorizer(analyzer = \"word\",   \\\n",
    "                             tokenizer = None,    \\\n",
    "                             preprocessor = None, \\\n",
    "                             stop_words = None,   \\\n",
    "                             max_features = 5000) \n",
    "\n",
    "# fit_transform() does two functions: First, it fits the model\n",
    "# and learns the vocabulary; second, it transforms our training data\n",
    "# into feature vectors. The input to fit_transform should be a list of \n",
    "# strings.\n",
    "train_data_features = vectorizer.fit_transform(clean_train_reviews)\n",
    "\n",
    "# Numpy arrays are easy to work with, so convert the result to an \n",
    "# array\n",
    "train_data_features = train_data_features.toarray()"
   ]
  },
  {
   "cell_type": "code",
   "execution_count": 17,
   "metadata": {},
   "outputs": [
    {
     "data": {
      "text/plain": [
       "(25000, 5000)"
      ]
     },
     "execution_count": 17,
     "metadata": {},
     "output_type": "execute_result"
    }
   ],
   "source": [
    "train_data_features.shape"
   ]
  },
  {
   "cell_type": "code",
   "execution_count": 18,
   "metadata": {},
   "outputs": [],
   "source": [
    "# Take a look at the words in the vocabulary\n",
    "vocab = vectorizer.get_feature_names()"
   ]
  },
  {
   "cell_type": "code",
   "execution_count": 19,
   "metadata": {},
   "outputs": [],
   "source": [
    "import numpy as np\n",
    "\n",
    "# Sum up the counts of each vocabulary word\n",
    "dist = np.sum(train_data_features, axis=0)\n",
    "\n",
    "# For each, print the vocabulary word and the number of times it \n",
    "# appears in the training set\n",
    "# for tag, count in zip(vocab, dist):\n",
    "#     print(count, tag)"
   ]
  },
  {
   "cell_type": "code",
   "execution_count": 20,
   "metadata": {},
   "outputs": [
    {
     "name": "stdout",
     "output_type": "stream",
     "text": [
      "Training the random forest...\n"
     ]
    }
   ],
   "source": [
    "print(\"Training the random forest...\")\n",
    "from sklearn.ensemble import RandomForestClassifier\n",
    "\n",
    "# Initialize a Random Forest classifier with 100 trees\n",
    "forest = RandomForestClassifier(n_estimators = 100) \n",
    "\n",
    "# Fit the forest to the training set, using the bag of words as \n",
    "# features and the sentiment labels as the response variable\n",
    "#\n",
    "# This may take a few minutes to run\n",
    "forest = forest.fit( train_data_features, train[\"sentiment\"] )"
   ]
  },
  {
   "cell_type": "code",
   "execution_count": 21,
   "metadata": {},
   "outputs": [
    {
     "name": "stdout",
     "output_type": "stream",
     "text": [
      "(25000, 2)\n",
      "Cleaning and parsing the test set movie reviews...\n",
      "\n",
      "Review 1000 of 25000\n",
      "\n",
      "Review 2000 of 25000\n",
      "\n",
      "Review 3000 of 25000\n",
      "\n",
      "Review 4000 of 25000\n",
      "\n",
      "Review 5000 of 25000\n",
      "\n",
      "Review 6000 of 25000\n",
      "\n",
      "Review 7000 of 25000\n",
      "\n",
      "Review 8000 of 25000\n",
      "\n",
      "Review 9000 of 25000\n",
      "\n",
      "Review 10000 of 25000\n",
      "\n",
      "Review 11000 of 25000\n",
      "\n",
      "Review 12000 of 25000\n",
      "\n",
      "Review 13000 of 25000\n",
      "\n",
      "Review 14000 of 25000\n",
      "\n",
      "Review 15000 of 25000\n",
      "\n",
      "Review 16000 of 25000\n",
      "\n",
      "Review 17000 of 25000\n",
      "\n",
      "Review 18000 of 25000\n",
      "\n",
      "Review 19000 of 25000\n",
      "\n",
      "Review 20000 of 25000\n",
      "\n",
      "Review 21000 of 25000\n",
      "\n",
      "Review 22000 of 25000\n",
      "\n",
      "Review 23000 of 25000\n",
      "\n",
      "Review 24000 of 25000\n",
      "\n",
      "Review 25000 of 25000\n",
      "\n"
     ]
    }
   ],
   "source": [
    "# Read the test data\n",
    "test = pd.read_csv(\"testData.tsv\", header=0, delimiter=\"\\t\", \\\n",
    "                   quoting=3 )\n",
    "\n",
    "# Verify that there are 25,000 rows and 2 columns\n",
    "print (test.shape)\n",
    "\n",
    "# Create an empty list and append the clean reviews one by one\n",
    "num_reviews = len(test[\"review\"])\n",
    "clean_test_reviews = [] \n",
    "\n",
    "print(\"Cleaning and parsing the test set movie reviews...\\n\")\n",
    "for i in range(0,num_reviews):\n",
    "    if( (i+1) % 1000 == 0 ):\n",
    "        print (\"Review %d of %d\\n\" % (i+1, num_reviews))\n",
    "    clean_review = review_to_words( test[\"review\"][i] )\n",
    "    clean_test_reviews.append( clean_review )\n",
    "\n",
    "# Get a bag of words for the test set, and convert to a numpy array\n",
    "test_data_features = vectorizer.transform(clean_test_reviews)\n",
    "test_data_features = test_data_features.toarray()\n",
    "\n",
    "# Use the random forest to make sentiment label predictions\n",
    "result = forest.predict(test_data_features)\n",
    "\n",
    "# Copy the results to a pandas dataframe with an \"id\" column and\n",
    "# a \"sentiment\" column\n",
    "output = pd.DataFrame( data={\"id\":test[\"id\"], \"sentiment\":result} )\n",
    "\n",
    "# Use pandas to write the comma-separated output file\n",
    "output.to_csv( \"Bag_of_Words_model.csv\", index=False, quoting=3 )"
   ]
  },
  {
   "cell_type": "code",
   "execution_count": 22,
   "metadata": {},
   "outputs": [
    {
     "name": "stdout",
     "output_type": "stream",
     "text": [
      "Read 25000 labeled train reviews, 25000 labeled test reviews, and 50000 unlabeled reviews\n",
      "\n"
     ]
    }
   ],
   "source": [
    "import pandas as pd\n",
    "\n",
    "# Read data from files \n",
    "train = pd.read_csv( \"labeledTrainData.tsv\", header=0, \n",
    " delimiter=\"\\t\", quoting=3 )\n",
    "test = pd.read_csv( \"testData.tsv\", header=0, delimiter=\"\\t\", quoting=3 )\n",
    "unlabeled_train = pd.read_csv( \"unlabeledTrainData.tsv\", header=0, \n",
    " delimiter=\"\\t\", quoting=3 )\n",
    "\n",
    "# Verify the number of reviews that were read (100,000 in total)\n",
    "print (\"Read %d labeled train reviews, %d labeled test reviews, \" \\\n",
    " \"and %d unlabeled reviews\\n\" % (train[\"review\"].size,  \n",
    " test[\"review\"].size, unlabeled_train[\"review\"].size ))"
   ]
  },
  {
   "cell_type": "code",
   "execution_count": 23,
   "metadata": {},
   "outputs": [],
   "source": [
    "# Import various modules for string cleaning\n",
    "from bs4 import BeautifulSoup\n",
    "import re\n",
    "from nltk.corpus import stopwords\n",
    "\n",
    "def review_to_wordlist( review, remove_stopwords=False ):\n",
    "    # Function to convert a document to a sequence of words,\n",
    "    # optionally removing stop words.  Returns a list of words.\n",
    "    #\n",
    "    # 1. Remove HTML\n",
    "    review_text = BeautifulSoup(review).get_text()\n",
    "    #  \n",
    "    # 2. Remove non-letters\n",
    "    review_text = re.sub(\"[^a-zA-Z]\",\" \", review_text)\n",
    "    #\n",
    "    # 3. Convert words to lower case and split them\n",
    "    words = review_text.lower().split()\n",
    "    #\n",
    "    # 4. Optionally remove stop words (false by default)\n",
    "    if remove_stopwords:\n",
    "        stops = set(stopwords.words(\"english\"))\n",
    "        words = [w for w in words if not w in stops]\n",
    "    #\n",
    "    # 5. Return a list of words\n",
    "    return(words)"
   ]
  },
  {
   "cell_type": "code",
   "execution_count": 24,
   "metadata": {},
   "outputs": [],
   "source": [
    "# Download the punkt tokenizer for sentence splitting\n",
    "import nltk.data\n",
    "# nltk.download()   \n",
    "\n",
    "# Load the punkt tokenizer\n",
    "tokenizer = nltk.data.load('tokenizers/punkt/english.pickle')\n",
    "\n",
    "# Define a function to split a review into parsed sentences\n",
    "def review_to_sentences( review, tokenizer, remove_stopwords=False ):\n",
    "    # Function to split a review into parsed sentences. Returns a \n",
    "    # list of sentences, where each sentence is a list of words\n",
    "    #\n",
    "    # 1. Use the NLTK tokenizer to split the paragraph into sentences\n",
    "    raw_sentences = tokenizer.tokenize(review.strip())\n",
    "    #\n",
    "    # 2. Loop over each sentence\n",
    "    sentences = []\n",
    "    for raw_sentence in raw_sentences:\n",
    "        # If a sentence is empty, skip it\n",
    "        if len(raw_sentence) > 0:\n",
    "            # Otherwise, call review_to_wordlist to get a list of words\n",
    "            sentences.append( review_to_wordlist( raw_sentence, \\\n",
    "              remove_stopwords ))\n",
    "    #\n",
    "    # Return the list of sentences (each sentence is a list of words,\n",
    "    # so this returns a list of lists\n",
    "    return sentences"
   ]
  },
  {
   "cell_type": "code",
   "execution_count": 25,
   "metadata": {},
   "outputs": [
    {
     "name": "stdout",
     "output_type": "stream",
     "text": [
      "Parsing sentences from training set\n",
      "Parsing sentences from unlabeled set\n"
     ]
    }
   ],
   "source": [
    "import warnings\n",
    " \n",
    "warnings.filterwarnings('ignore')\n",
    "sentences = []  # Initialize an empty list of sentences\n",
    "\n",
    "print (\"Parsing sentences from training set\")\n",
    "for review in train[\"review\"]:\n",
    "    sentences += review_to_sentences(review, tokenizer)\n",
    "\n",
    "print (\"Parsing sentences from unlabeled set\")\n",
    "for review in unlabeled_train[\"review\"]:\n",
    "    sentences += review_to_sentences(review, tokenizer)"
   ]
  },
  {
   "cell_type": "code",
   "execution_count": 26,
   "metadata": {},
   "outputs": [
    {
     "data": {
      "text/plain": [
       "795538"
      ]
     },
     "execution_count": 26,
     "metadata": {},
     "output_type": "execute_result"
    }
   ],
   "source": [
    "len(sentences)"
   ]
  },
  {
   "cell_type": "code",
   "execution_count": 27,
   "metadata": {},
   "outputs": [
    {
     "data": {
      "text/plain": [
       "['with',\n",
       " 'all',\n",
       " 'this',\n",
       " 'stuff',\n",
       " 'going',\n",
       " 'down',\n",
       " 'at',\n",
       " 'the',\n",
       " 'moment',\n",
       " 'with',\n",
       " 'mj',\n",
       " 'i',\n",
       " 've',\n",
       " 'started',\n",
       " 'listening',\n",
       " 'to',\n",
       " 'his',\n",
       " 'music',\n",
       " 'watching',\n",
       " 'the',\n",
       " 'odd',\n",
       " 'documentary',\n",
       " 'here',\n",
       " 'and',\n",
       " 'there',\n",
       " 'watched',\n",
       " 'the',\n",
       " 'wiz',\n",
       " 'and',\n",
       " 'watched',\n",
       " 'moonwalker',\n",
       " 'again']"
      ]
     },
     "execution_count": 27,
     "metadata": {},
     "output_type": "execute_result"
    }
   ],
   "source": [
    "sentences[0]"
   ]
  },
  {
   "cell_type": "code",
   "execution_count": 28,
   "metadata": {},
   "outputs": [
    {
     "name": "stderr",
     "output_type": "stream",
     "text": [
      "2021-06-07 14:45:10,611 : INFO : collecting all words and their counts\n",
      "2021-06-07 14:45:10,612 : INFO : PROGRESS: at sentence #0, processed 0 words, keeping 0 word types\n",
      "2021-06-07 14:45:10,647 : INFO : PROGRESS: at sentence #10000, processed 225803 words, keeping 17776 word types\n",
      "2021-06-07 14:45:10,686 : INFO : PROGRESS: at sentence #20000, processed 451892 words, keeping 24948 word types\n",
      "2021-06-07 14:45:10,724 : INFO : PROGRESS: at sentence #30000, processed 671315 words, keeping 30034 word types\n",
      "2021-06-07 14:45:10,761 : INFO : PROGRESS: at sentence #40000, processed 897815 words, keeping 34348 word types\n",
      "2021-06-07 14:45:10,795 : INFO : PROGRESS: at sentence #50000, processed 1116963 words, keeping 37761 word types\n"
     ]
    },
    {
     "name": "stdout",
     "output_type": "stream",
     "text": [
      "Training model...\n"
     ]
    },
    {
     "name": "stderr",
     "output_type": "stream",
     "text": [
      "2021-06-07 14:45:10,830 : INFO : PROGRESS: at sentence #60000, processed 1338404 words, keeping 40723 word types\n",
      "2021-06-07 14:45:10,868 : INFO : PROGRESS: at sentence #70000, processed 1561580 words, keeping 43333 word types\n",
      "2021-06-07 14:45:10,902 : INFO : PROGRESS: at sentence #80000, processed 1780887 words, keeping 45714 word types\n",
      "2021-06-07 14:45:10,938 : INFO : PROGRESS: at sentence #90000, processed 2004996 words, keeping 48135 word types\n",
      "2021-06-07 14:45:10,974 : INFO : PROGRESS: at sentence #100000, processed 2226966 words, keeping 50207 word types\n",
      "2021-06-07 14:45:11,010 : INFO : PROGRESS: at sentence #110000, processed 2446580 words, keeping 52081 word types\n",
      "2021-06-07 14:45:11,045 : INFO : PROGRESS: at sentence #120000, processed 2668775 words, keeping 54119 word types\n",
      "2021-06-07 14:45:11,084 : INFO : PROGRESS: at sentence #130000, processed 2894303 words, keeping 55847 word types\n",
      "2021-06-07 14:45:11,117 : INFO : PROGRESS: at sentence #140000, processed 3107005 words, keeping 57346 word types\n",
      "2021-06-07 14:45:11,155 : INFO : PROGRESS: at sentence #150000, processed 3332627 words, keeping 59055 word types\n",
      "2021-06-07 14:45:11,189 : INFO : PROGRESS: at sentence #160000, processed 3555315 words, keeping 60617 word types\n",
      "2021-06-07 14:45:11,228 : INFO : PROGRESS: at sentence #170000, processed 3778655 words, keeping 62077 word types\n",
      "2021-06-07 14:45:11,267 : INFO : PROGRESS: at sentence #180000, processed 3999236 words, keeping 63496 word types\n",
      "2021-06-07 14:45:11,305 : INFO : PROGRESS: at sentence #190000, processed 4224449 words, keeping 64794 word types\n",
      "2021-06-07 14:45:11,341 : INFO : PROGRESS: at sentence #200000, processed 4448603 words, keeping 66087 word types\n",
      "2021-06-07 14:45:11,379 : INFO : PROGRESS: at sentence #210000, processed 4669967 words, keeping 67390 word types\n",
      "2021-06-07 14:45:11,417 : INFO : PROGRESS: at sentence #220000, processed 4894968 words, keeping 68697 word types\n",
      "2021-06-07 14:45:11,455 : INFO : PROGRESS: at sentence #230000, processed 5117545 words, keeping 69958 word types\n",
      "2021-06-07 14:45:11,496 : INFO : PROGRESS: at sentence #240000, processed 5345050 words, keeping 71167 word types\n",
      "2021-06-07 14:45:11,534 : INFO : PROGRESS: at sentence #250000, processed 5559165 words, keeping 72351 word types\n",
      "2021-06-07 14:45:11,572 : INFO : PROGRESS: at sentence #260000, processed 5779146 words, keeping 73478 word types\n",
      "2021-06-07 14:45:11,610 : INFO : PROGRESS: at sentence #270000, processed 6000435 words, keeping 74767 word types\n",
      "2021-06-07 14:45:11,651 : INFO : PROGRESS: at sentence #280000, processed 6226314 words, keeping 76369 word types\n",
      "2021-06-07 14:45:11,686 : INFO : PROGRESS: at sentence #290000, processed 6449474 words, keeping 77839 word types\n",
      "2021-06-07 14:45:11,723 : INFO : PROGRESS: at sentence #300000, processed 6674077 words, keeping 79171 word types\n",
      "2021-06-07 14:45:11,764 : INFO : PROGRESS: at sentence #310000, processed 6899391 words, keeping 80480 word types\n",
      "2021-06-07 14:45:11,803 : INFO : PROGRESS: at sentence #320000, processed 7124278 words, keeping 81808 word types\n",
      "2021-06-07 14:45:11,837 : INFO : PROGRESS: at sentence #330000, processed 7346021 words, keeping 83030 word types\n",
      "2021-06-07 14:45:11,878 : INFO : PROGRESS: at sentence #340000, processed 7575533 words, keeping 84280 word types\n",
      "2021-06-07 14:45:11,916 : INFO : PROGRESS: at sentence #350000, processed 7798803 words, keeping 85425 word types\n",
      "2021-06-07 14:45:11,952 : INFO : PROGRESS: at sentence #360000, processed 8019427 words, keeping 86596 word types\n",
      "2021-06-07 14:45:11,992 : INFO : PROGRESS: at sentence #370000, processed 8246619 words, keeping 87708 word types\n",
      "2021-06-07 14:45:12,030 : INFO : PROGRESS: at sentence #380000, processed 8471766 words, keeping 88878 word types\n",
      "2021-06-07 14:45:12,071 : INFO : PROGRESS: at sentence #390000, processed 8701497 words, keeping 89907 word types\n",
      "2021-06-07 14:45:12,112 : INFO : PROGRESS: at sentence #400000, processed 8924446 words, keeping 90916 word types\n",
      "2021-06-07 14:45:12,150 : INFO : PROGRESS: at sentence #410000, processed 9145796 words, keeping 91880 word types\n",
      "2021-06-07 14:45:12,188 : INFO : PROGRESS: at sentence #420000, processed 9366876 words, keeping 92912 word types\n",
      "2021-06-07 14:45:12,228 : INFO : PROGRESS: at sentence #430000, processed 9594413 words, keeping 93932 word types\n",
      "2021-06-07 14:45:12,269 : INFO : PROGRESS: at sentence #440000, processed 9821166 words, keeping 94906 word types\n",
      "2021-06-07 14:45:12,308 : INFO : PROGRESS: at sentence #450000, processed 10044928 words, keeping 96036 word types\n",
      "2021-06-07 14:45:12,346 : INFO : PROGRESS: at sentence #460000, processed 10277688 words, keeping 97088 word types\n",
      "2021-06-07 14:45:12,391 : INFO : PROGRESS: at sentence #470000, processed 10505613 words, keeping 97933 word types\n",
      "2021-06-07 14:45:12,427 : INFO : PROGRESS: at sentence #480000, processed 10725997 words, keeping 98862 word types\n",
      "2021-06-07 14:45:12,466 : INFO : PROGRESS: at sentence #490000, processed 10952741 words, keeping 99871 word types\n",
      "2021-06-07 14:45:12,503 : INFO : PROGRESS: at sentence #500000, processed 11174397 words, keeping 100765 word types\n",
      "2021-06-07 14:45:12,536 : INFO : PROGRESS: at sentence #510000, processed 11399672 words, keeping 101699 word types\n",
      "2021-06-07 14:45:12,577 : INFO : PROGRESS: at sentence #520000, processed 11623020 words, keeping 102598 word types\n",
      "2021-06-07 14:45:12,612 : INFO : PROGRESS: at sentence #530000, processed 11847418 words, keeping 103400 word types\n",
      "2021-06-07 14:45:12,649 : INFO : PROGRESS: at sentence #540000, processed 12072033 words, keeping 104265 word types\n",
      "2021-06-07 14:45:12,689 : INFO : PROGRESS: at sentence #550000, processed 12297571 words, keeping 105133 word types\n",
      "2021-06-07 14:45:12,725 : INFO : PROGRESS: at sentence #560000, processed 12518861 words, keeping 105997 word types\n",
      "2021-06-07 14:45:12,767 : INFO : PROGRESS: at sentence #570000, processed 12747916 words, keeping 106787 word types\n",
      "2021-06-07 14:45:12,804 : INFO : PROGRESS: at sentence #580000, processed 12969412 words, keeping 107665 word types\n",
      "2021-06-07 14:45:12,842 : INFO : PROGRESS: at sentence #590000, processed 13194937 words, keeping 108501 word types\n",
      "2021-06-07 14:45:12,883 : INFO : PROGRESS: at sentence #600000, processed 13417135 words, keeping 109218 word types\n",
      "2021-06-07 14:45:12,918 : INFO : PROGRESS: at sentence #610000, processed 13638158 words, keeping 110092 word types\n",
      "2021-06-07 14:45:12,957 : INFO : PROGRESS: at sentence #620000, processed 13864483 words, keeping 110837 word types\n",
      "2021-06-07 14:45:12,994 : INFO : PROGRESS: at sentence #630000, processed 14088769 words, keeping 111610 word types\n",
      "2021-06-07 14:45:13,033 : INFO : PROGRESS: at sentence #640000, processed 14309552 words, keeping 112416 word types\n",
      "2021-06-07 14:45:13,068 : INFO : PROGRESS: at sentence #650000, processed 14535308 words, keeping 113196 word types\n",
      "2021-06-07 14:45:13,108 : INFO : PROGRESS: at sentence #660000, processed 14758098 words, keeping 113945 word types\n",
      "2021-06-07 14:45:13,143 : INFO : PROGRESS: at sentence #670000, processed 14981482 words, keeping 114643 word types\n",
      "2021-06-07 14:45:13,182 : INFO : PROGRESS: at sentence #680000, processed 15206314 words, keeping 115354 word types\n",
      "2021-06-07 14:45:13,217 : INFO : PROGRESS: at sentence #690000, processed 15428507 words, keeping 116131 word types\n",
      "2021-06-07 14:45:13,257 : INFO : PROGRESS: at sentence #700000, processed 15657213 words, keeping 116943 word types\n",
      "2021-06-07 14:45:13,293 : INFO : PROGRESS: at sentence #710000, processed 15880202 words, keeping 117596 word types\n",
      "2021-06-07 14:45:13,334 : INFO : PROGRESS: at sentence #720000, processed 16105489 words, keeping 118221 word types\n",
      "2021-06-07 14:45:13,370 : INFO : PROGRESS: at sentence #730000, processed 16331870 words, keeping 118954 word types\n",
      "2021-06-07 14:45:13,406 : INFO : PROGRESS: at sentence #740000, processed 16552903 words, keeping 119668 word types\n",
      "2021-06-07 14:45:13,444 : INFO : PROGRESS: at sentence #750000, processed 16771230 words, keeping 120295 word types\n",
      "2021-06-07 14:45:13,479 : INFO : PROGRESS: at sentence #760000, processed 16990622 words, keeping 120930 word types\n",
      "2021-06-07 14:45:13,520 : INFO : PROGRESS: at sentence #770000, processed 17217759 words, keeping 121703 word types\n",
      "2021-06-07 14:45:13,559 : INFO : PROGRESS: at sentence #780000, processed 17447905 words, keeping 122402 word types\n",
      "2021-06-07 14:45:13,594 : INFO : PROGRESS: at sentence #790000, processed 17674981 words, keeping 123066 word types\n",
      "2021-06-07 14:45:13,616 : INFO : collected 123504 word types from a corpus of 17798082 raw words and 795538 sentences\n",
      "2021-06-07 14:45:13,617 : INFO : Loading a fresh vocabulary\n",
      "2021-06-07 14:45:14,209 : INFO : effective_min_count=40 retains 16490 unique words (13% of original 123504, drops 107014)\n",
      "2021-06-07 14:45:14,210 : INFO : effective_min_count=40 leaves 17238940 word corpus (96% of original 17798082, drops 559142)\n",
      "2021-06-07 14:45:14,249 : INFO : deleting the raw counts dictionary of 123504 items\n",
      "2021-06-07 14:45:14,252 : INFO : sample=0.001 downsamples 48 most-common words\n",
      "2021-06-07 14:45:14,252 : INFO : downsampling leaves estimated 12749658 word corpus (74.0% of prior 17238940)\n",
      "2021-06-07 14:45:14,290 : INFO : estimated required memory for 16490 words and 300 dimensions: 47821000 bytes\n",
      "2021-06-07 14:45:14,291 : INFO : resetting layer weights\n",
      "2021-06-07 14:45:16,689 : INFO : training model with 4 workers on 16490 vocabulary and 300 features, using sg=0 hs=0 sample=0.001 negative=5 window=10\n",
      "2021-06-07 14:45:17,695 : INFO : EPOCH 1 - PROGRESS: at 10.70% examples, 1357884 words/s, in_qsize 7, out_qsize 0\n",
      "2021-06-07 14:45:18,703 : INFO : EPOCH 1 - PROGRESS: at 22.59% examples, 1424991 words/s, in_qsize 7, out_qsize 0\n",
      "2021-06-07 14:45:19,707 : INFO : EPOCH 1 - PROGRESS: at 33.38% examples, 1403322 words/s, in_qsize 7, out_qsize 0\n",
      "2021-06-07 14:45:20,708 : INFO : EPOCH 1 - PROGRESS: at 43.58% examples, 1379016 words/s, in_qsize 7, out_qsize 0\n",
      "2021-06-07 14:45:21,710 : INFO : EPOCH 1 - PROGRESS: at 54.21% examples, 1374580 words/s, in_qsize 7, out_qsize 0\n",
      "2021-06-07 14:45:22,713 : INFO : EPOCH 1 - PROGRESS: at 64.56% examples, 1366372 words/s, in_qsize 7, out_qsize 0\n",
      "2021-06-07 14:45:23,723 : INFO : EPOCH 1 - PROGRESS: at 75.30% examples, 1365583 words/s, in_qsize 7, out_qsize 0\n",
      "2021-06-07 14:45:24,725 : INFO : EPOCH 1 - PROGRESS: at 86.14% examples, 1367144 words/s, in_qsize 7, out_qsize 0\n",
      "2021-06-07 14:45:25,728 : INFO : EPOCH 1 - PROGRESS: at 96.80% examples, 1365701 words/s, in_qsize 7, out_qsize 0\n",
      "2021-06-07 14:45:26,023 : INFO : worker thread finished; awaiting finish of 3 more threads\n",
      "2021-06-07 14:45:26,027 : INFO : worker thread finished; awaiting finish of 2 more threads\n",
      "2021-06-07 14:45:26,030 : INFO : worker thread finished; awaiting finish of 1 more threads\n",
      "2021-06-07 14:45:26,033 : INFO : worker thread finished; awaiting finish of 0 more threads\n",
      "2021-06-07 14:45:26,034 : INFO : EPOCH - 1 : training on 17798082 raw words (12750910 effective words) took 9.3s, 1365261 effective words/s\n",
      "2021-06-07 14:45:27,039 : INFO : EPOCH 2 - PROGRESS: at 10.47% examples, 1330118 words/s, in_qsize 8, out_qsize 0\n",
      "2021-06-07 14:45:28,044 : INFO : EPOCH 2 - PROGRESS: at 21.18% examples, 1337601 words/s, in_qsize 7, out_qsize 0\n",
      "2021-06-07 14:45:29,045 : INFO : EPOCH 2 - PROGRESS: at 31.67% examples, 1334589 words/s, in_qsize 7, out_qsize 0\n",
      "2021-06-07 14:45:30,049 : INFO : EPOCH 2 - PROGRESS: at 42.35% examples, 1340858 words/s, in_qsize 7, out_qsize 0\n",
      "2021-06-07 14:45:31,052 : INFO : EPOCH 2 - PROGRESS: at 52.83% examples, 1339470 words/s, in_qsize 7, out_qsize 0\n",
      "2021-06-07 14:45:32,056 : INFO : EPOCH 2 - PROGRESS: at 63.05% examples, 1334523 words/s, in_qsize 7, out_qsize 0\n",
      "2021-06-07 14:45:33,057 : INFO : EPOCH 2 - PROGRESS: at 73.50% examples, 1334809 words/s, in_qsize 7, out_qsize 0\n",
      "2021-06-07 14:45:34,059 : INFO : EPOCH 2 - PROGRESS: at 83.95% examples, 1333957 words/s, in_qsize 7, out_qsize 0\n",
      "2021-06-07 14:45:35,063 : INFO : EPOCH 2 - PROGRESS: at 94.54% examples, 1335115 words/s, in_qsize 7, out_qsize 0\n",
      "2021-06-07 14:45:35,564 : INFO : worker thread finished; awaiting finish of 3 more threads\n",
      "2021-06-07 14:45:35,574 : INFO : worker thread finished; awaiting finish of 2 more threads\n",
      "2021-06-07 14:45:35,578 : INFO : worker thread finished; awaiting finish of 1 more threads\n",
      "2021-06-07 14:45:35,579 : INFO : worker thread finished; awaiting finish of 0 more threads\n",
      "2021-06-07 14:45:35,580 : INFO : EPOCH - 2 : training on 17798082 raw words (12749354 effective words) took 9.5s, 1336185 effective words/s\n",
      "2021-06-07 14:45:36,589 : INFO : EPOCH 3 - PROGRESS: at 10.32% examples, 1303717 words/s, in_qsize 7, out_qsize 0\n",
      "2021-06-07 14:45:37,593 : INFO : EPOCH 3 - PROGRESS: at 21.07% examples, 1329157 words/s, in_qsize 7, out_qsize 0\n",
      "2021-06-07 14:45:38,595 : INFO : EPOCH 3 - PROGRESS: at 31.73% examples, 1335186 words/s, in_qsize 7, out_qsize 0\n",
      "2021-06-07 14:45:39,597 : INFO : EPOCH 3 - PROGRESS: at 42.30% examples, 1338655 words/s, in_qsize 7, out_qsize 0\n",
      "2021-06-07 14:45:40,604 : INFO : EPOCH 3 - PROGRESS: at 52.83% examples, 1337962 words/s, in_qsize 7, out_qsize 0\n",
      "2021-06-07 14:45:41,606 : INFO : EPOCH 3 - PROGRESS: at 63.33% examples, 1339502 words/s, in_qsize 7, out_qsize 0\n",
      "2021-06-07 14:45:42,606 : INFO : EPOCH 3 - PROGRESS: at 73.85% examples, 1340252 words/s, in_qsize 7, out_qsize 0\n",
      "2021-06-07 14:45:43,607 : INFO : EPOCH 3 - PROGRESS: at 84.45% examples, 1341423 words/s, in_qsize 7, out_qsize 0\n",
      "2021-06-07 14:45:44,608 : INFO : EPOCH 3 - PROGRESS: at 95.06% examples, 1342390 words/s, in_qsize 7, out_qsize 0\n",
      "2021-06-07 14:45:45,059 : INFO : worker thread finished; awaiting finish of 3 more threads\n",
      "2021-06-07 14:45:45,062 : INFO : worker thread finished; awaiting finish of 2 more threads\n",
      "2021-06-07 14:45:45,069 : INFO : worker thread finished; awaiting finish of 1 more threads\n",
      "2021-06-07 14:45:45,071 : INFO : worker thread finished; awaiting finish of 0 more threads\n",
      "2021-06-07 14:45:45,072 : INFO : EPOCH - 3 : training on 17798082 raw words (12747893 effective words) took 9.5s, 1343864 effective words/s\n",
      "2021-06-07 14:45:46,079 : INFO : EPOCH 4 - PROGRESS: at 10.32% examples, 1304760 words/s, in_qsize 7, out_qsize 0\n",
      "2021-06-07 14:45:47,085 : INFO : EPOCH 4 - PROGRESS: at 21.01% examples, 1324205 words/s, in_qsize 7, out_qsize 0\n",
      "2021-06-07 14:45:48,087 : INFO : EPOCH 4 - PROGRESS: at 31.73% examples, 1334553 words/s, in_qsize 7, out_qsize 0\n",
      "2021-06-07 14:45:49,089 : INFO : EPOCH 4 - PROGRESS: at 42.08% examples, 1330892 words/s, in_qsize 8, out_qsize 0\n",
      "2021-06-07 14:45:50,090 : INFO : EPOCH 4 - PROGRESS: at 52.78% examples, 1337894 words/s, in_qsize 8, out_qsize 0\n",
      "2021-06-07 14:45:51,090 : INFO : EPOCH 4 - PROGRESS: at 63.27% examples, 1339964 words/s, in_qsize 8, out_qsize 0\n",
      "2021-06-07 14:45:52,100 : INFO : EPOCH 4 - PROGRESS: at 74.01% examples, 1342969 words/s, in_qsize 8, out_qsize 0\n",
      "2021-06-07 14:45:53,104 : INFO : EPOCH 4 - PROGRESS: at 84.88% examples, 1347742 words/s, in_qsize 7, out_qsize 0\n",
      "2021-06-07 14:45:54,107 : INFO : EPOCH 4 - PROGRESS: at 95.59% examples, 1348616 words/s, in_qsize 7, out_qsize 0\n",
      "2021-06-07 14:45:54,530 : INFO : worker thread finished; awaiting finish of 3 more threads\n",
      "2021-06-07 14:45:54,541 : INFO : worker thread finished; awaiting finish of 2 more threads\n",
      "2021-06-07 14:45:54,544 : INFO : worker thread finished; awaiting finish of 1 more threads\n",
      "2021-06-07 14:45:54,546 : INFO : worker thread finished; awaiting finish of 0 more threads\n",
      "2021-06-07 14:45:54,547 : INFO : EPOCH - 4 : training on 17798082 raw words (12750497 effective words) took 9.5s, 1346324 effective words/s\n",
      "2021-06-07 14:45:55,552 : INFO : EPOCH 5 - PROGRESS: at 10.53% examples, 1335784 words/s, in_qsize 7, out_qsize 0\n",
      "2021-06-07 14:45:56,554 : INFO : EPOCH 5 - PROGRESS: at 21.40% examples, 1352982 words/s, in_qsize 7, out_qsize 0\n",
      "2021-06-07 14:45:57,560 : INFO : EPOCH 5 - PROGRESS: at 32.29% examples, 1359013 words/s, in_qsize 8, out_qsize 0\n",
      "2021-06-07 14:45:58,561 : INFO : EPOCH 5 - PROGRESS: at 43.14% examples, 1365661 words/s, in_qsize 8, out_qsize 0\n",
      "2021-06-07 14:45:59,563 : INFO : EPOCH 5 - PROGRESS: at 53.67% examples, 1360901 words/s, in_qsize 7, out_qsize 0\n",
      "2021-06-07 14:46:00,569 : INFO : EPOCH 5 - PROGRESS: at 64.38% examples, 1362538 words/s, in_qsize 8, out_qsize 0\n",
      "2021-06-07 14:46:01,569 : INFO : EPOCH 5 - PROGRESS: at 75.19% examples, 1365070 words/s, in_qsize 7, out_qsize 0\n",
      "2021-06-07 14:46:02,574 : INFO : EPOCH 5 - PROGRESS: at 85.91% examples, 1364511 words/s, in_qsize 8, out_qsize 0\n",
      "2021-06-07 14:46:03,576 : INFO : EPOCH 5 - PROGRESS: at 96.69% examples, 1365227 words/s, in_qsize 7, out_qsize 0\n",
      "2021-06-07 14:46:03,864 : INFO : worker thread finished; awaiting finish of 3 more threads\n",
      "2021-06-07 14:46:03,870 : INFO : worker thread finished; awaiting finish of 2 more threads\n",
      "2021-06-07 14:46:03,873 : INFO : worker thread finished; awaiting finish of 1 more threads\n",
      "2021-06-07 14:46:03,880 : INFO : worker thread finished; awaiting finish of 0 more threads\n",
      "2021-06-07 14:46:03,881 : INFO : EPOCH - 5 : training on 17798082 raw words (12749079 effective words) took 9.3s, 1366598 effective words/s\n",
      "2021-06-07 14:46:03,881 : INFO : training on a 88990410 raw words (63747733 effective words) took 47.2s, 1350830 effective words/s\n",
      "2021-06-07 14:46:03,882 : INFO : precomputing L2-norms of word weight vectors\n",
      "2021-06-07 14:46:03,892 : INFO : saving Word2Vec object under 300features_40minwords_10context, separately None\n",
      "2021-06-07 14:46:03,893 : INFO : not storing attribute vectors_norm\n",
      "2021-06-07 14:46:03,894 : INFO : not storing attribute cum_table\n",
      "2021-06-07 14:46:04,847 : INFO : saved 300features_40minwords_10context\n"
     ]
    }
   ],
   "source": [
    "# Import the built-in logging module and configure it so that Word2Vec \n",
    "# creates nice output messages\n",
    "import logging\n",
    "logging.basicConfig(format='%(asctime)s : %(levelname)s : %(message)s',\\\n",
    "    level=logging.INFO)\n",
    "\n",
    "# Set values for various parameters\n",
    "num_features = 300    # Word vector dimensionality                      \n",
    "min_word_count = 40   # Minimum word count                        \n",
    "num_workers = 4       # Number of threads to run in parallel\n",
    "context = 10          # Context window size                                                                                    \n",
    "downsampling = 1e-3   # Downsample setting for frequent words\n",
    "\n",
    "# Initialize and train the model (this will take some time)\n",
    "from gensim.models import word2vec\n",
    "print(\"Training model...\")\n",
    "model = word2vec.Word2Vec(sentences, workers=num_workers, \\\n",
    "            size=num_features, min_count = min_word_count, \\\n",
    "            window = context, sample = downsampling)\n",
    "\n",
    "# If you don't plan to train the model any further, calling \n",
    "# init_sims will make the model much more memory-efficient.\n",
    "model.init_sims(replace=True)\n",
    "\n",
    "# It can be helpful to create a meaningful model name and \n",
    "# save the model for later use. You can load it later using Word2Vec.load()\n",
    "model_name = \"300features_40minwords_10context\"\n",
    "model.save(model_name)"
   ]
  },
  {
   "cell_type": "code",
   "execution_count": 29,
   "metadata": {},
   "outputs": [
    {
     "data": {
      "text/plain": [
       "'kitchen'"
      ]
     },
     "execution_count": 29,
     "metadata": {},
     "output_type": "execute_result"
    }
   ],
   "source": [
    "model.doesnt_match(\"man woman child kitchen\".split())"
   ]
  },
  {
   "cell_type": "code",
   "execution_count": 30,
   "metadata": {},
   "outputs": [
    {
     "data": {
      "text/plain": [
       "'berlin'"
      ]
     },
     "execution_count": 30,
     "metadata": {},
     "output_type": "execute_result"
    }
   ],
   "source": [
    "model.doesnt_match(\"france england germany berlin\".split())"
   ]
  },
  {
   "cell_type": "code",
   "execution_count": 31,
   "metadata": {},
   "outputs": [
    {
     "data": {
      "text/plain": [
       "[('woman', 0.614539384841919),\n",
       " ('lady', 0.5874196290969849),\n",
       " ('monk', 0.556060791015625),\n",
       " ('lad', 0.5494620203971863),\n",
       " ('men', 0.5357205867767334),\n",
       " ('soldier', 0.5334039330482483),\n",
       " ('farmer', 0.5189571976661682),\n",
       " ('millionaire', 0.513780951499939),\n",
       " ('guy', 0.5126757621765137),\n",
       " ('sailor', 0.5114678144454956)]"
      ]
     },
     "execution_count": 31,
     "metadata": {},
     "output_type": "execute_result"
    }
   ],
   "source": [
    "model.most_similar(\"man\")"
   ]
  },
  {
   "cell_type": "code",
   "execution_count": 32,
   "metadata": {},
   "outputs": [
    {
     "data": {
      "text/plain": [
       "[('terrible', 0.7614544034004211),\n",
       " ('atrocious', 0.7259223461151123),\n",
       " ('horrible', 0.7188194990158081),\n",
       " ('abysmal', 0.7061954736709595),\n",
       " ('dreadful', 0.7040876746177673),\n",
       " ('horrendous', 0.672523021697998),\n",
       " ('appalling', 0.664808988571167),\n",
       " ('horrid', 0.6495370864868164),\n",
       " ('lousy', 0.6379365921020508),\n",
       " ('crappy', 0.607629656791687)]"
      ]
     },
     "execution_count": 32,
     "metadata": {},
     "output_type": "execute_result"
    }
   ],
   "source": [
    "model.most_similar(\"awful\")"
   ]
  },
  {
   "cell_type": "code",
   "execution_count": 33,
   "metadata": {},
   "outputs": [
    {
     "name": "stderr",
     "output_type": "stream",
     "text": [
      "2021-06-07 14:49:41,763 : INFO : loading Word2Vec object from 300features_40minwords_10context\n",
      "2021-06-07 14:49:41,987 : INFO : loading wv recursively from 300features_40minwords_10context.wv.* with mmap=None\n",
      "2021-06-07 14:49:41,988 : INFO : setting ignored attribute vectors_norm to None\n",
      "2021-06-07 14:49:41,988 : INFO : loading vocabulary recursively from 300features_40minwords_10context.vocabulary.* with mmap=None\n",
      "2021-06-07 14:49:41,989 : INFO : loading trainables recursively from 300features_40minwords_10context.trainables.* with mmap=None\n",
      "2021-06-07 14:49:41,989 : INFO : setting ignored attribute cum_table to None\n",
      "2021-06-07 14:49:41,990 : INFO : loaded 300features_40minwords_10context\n"
     ]
    }
   ],
   "source": [
    "import warnings\n",
    "warnings.filterwarnings('ignore')\n",
    "from gensim.models import Word2Vec\n",
    "model = Word2Vec.load(\"300features_40minwords_10context\")"
   ]
  },
  {
   "cell_type": "code",
   "execution_count": 34,
   "metadata": {},
   "outputs": [
    {
     "data": {
      "text/plain": [
       "numpy.ndarray"
      ]
     },
     "execution_count": 34,
     "metadata": {},
     "output_type": "execute_result"
    }
   ],
   "source": [
    "type(model.wv.syn0)"
   ]
  },
  {
   "cell_type": "code",
   "execution_count": 35,
   "metadata": {},
   "outputs": [
    {
     "data": {
      "text/plain": [
       "(16490, 300)"
      ]
     },
     "execution_count": 35,
     "metadata": {},
     "output_type": "execute_result"
    }
   ],
   "source": [
    "model.wv.syn0.shape"
   ]
  },
  {
   "cell_type": "code",
   "execution_count": 36,
   "metadata": {},
   "outputs": [
    {
     "data": {
      "text/plain": [
       "array([ 1.44524975e-02,  2.51448881e-02, -1.31786149e-02,  1.39089273e-02,\n",
       "        2.90294439e-02, -1.92806888e-02, -5.50900251e-02,  4.50765155e-02,\n",
       "       -4.23660837e-02, -4.96822968e-02,  3.09720710e-02, -4.52915318e-02,\n",
       "       -1.99189316e-02, -6.02746420e-02,  7.78193399e-02,  2.68900972e-02,\n",
       "        2.33567487e-02,  4.42249998e-02,  3.71340215e-02, -1.14055462e-01,\n",
       "       -6.67303056e-02, -6.51999190e-02,  3.81732807e-02, -6.15678029e-03,\n",
       "       -1.14452029e-02,  3.44202593e-02, -9.85544547e-02,  1.22102156e-01,\n",
       "        3.09472121e-02,  1.36286005e-01,  9.26597938e-02, -4.99933437e-02,\n",
       "       -4.59003262e-02, -4.88714539e-02, -5.02870567e-02, -8.63501150e-03,\n",
       "       -1.10611886e-01,  3.44464965e-02, -1.09597653e-01,  5.37567623e-02,\n",
       "       -6.32749870e-02,  1.75260734e-02,  8.05913005e-03,  5.97996488e-02,\n",
       "       -2.19761785e-02, -6.10739887e-02,  7.44035318e-02,  2.26139976e-03,\n",
       "       -5.82543295e-03,  1.37114212e-01, -1.86305866e-02, -3.53635922e-02,\n",
       "        1.03607429e-02,  5.12991957e-02,  5.54137602e-02, -6.59703836e-02,\n",
       "        1.97693463e-02,  2.21704189e-02,  5.63338660e-02, -5.42842112e-02,\n",
       "        2.07946822e-02,  7.97718093e-02,  5.15362583e-02,  4.13501263e-02,\n",
       "        9.66464430e-02,  8.51192772e-02,  7.54264370e-02, -4.94427904e-02,\n",
       "        9.51371994e-03, -3.26905074e-03, -1.65803637e-02, -4.87313000e-03,\n",
       "       -4.95521761e-02, -1.04882255e-01,  2.41423473e-02,  8.53328556e-02,\n",
       "        5.74057475e-02,  1.10187173e-01,  6.90592304e-02,  1.02398368e-02,\n",
       "       -8.15424621e-02, -6.18862584e-02,  3.88659677e-03, -2.74863951e-02,\n",
       "        9.43909958e-02, -5.50683588e-02, -1.47847831e-02,  2.03986708e-02,\n",
       "        5.28174266e-03,  6.62939325e-02,  4.50860709e-03, -3.02423816e-02,\n",
       "        8.25365558e-02,  2.99508106e-02, -2.30867900e-02,  2.32033674e-02,\n",
       "        2.60950532e-02, -1.62588842e-02,  6.87990710e-02,  4.37622480e-02,\n",
       "        2.20491178e-02, -3.80486585e-02, -4.87001278e-02, -5.58039397e-02,\n",
       "       -8.50914419e-03,  6.70176521e-02, -7.38920970e-03, -1.35494526e-02,\n",
       "        1.74545161e-02, -6.48347959e-02,  2.53539290e-02, -3.09585985e-02,\n",
       "        1.25824753e-02,  5.46465442e-03, -1.03096971e-02,  1.08283043e-01,\n",
       "       -1.68074016e-02,  7.93546531e-03, -8.91219899e-02,  2.35856231e-02,\n",
       "        1.15411080e-01,  3.40226442e-02, -2.15781387e-03, -3.42890644e-03,\n",
       "       -5.87750450e-02,  5.40150069e-02,  4.18176241e-02, -9.44775492e-02,\n",
       "       -7.17926845e-02, -2.46286076e-02,  2.14882921e-02, -7.64027163e-02,\n",
       "       -3.37261856e-02, -1.72452591e-02, -1.02902465e-01, -5.96380346e-02,\n",
       "       -2.60628872e-02, -3.53239216e-02, -8.38623047e-02, -1.85454308e-04,\n",
       "        1.07880122e-04, -1.08358756e-01,  6.96252659e-03,  9.98227820e-02,\n",
       "        1.89742520e-02,  5.89397475e-02, -2.25538649e-02,  7.54962340e-02,\n",
       "        5.81154451e-02,  2.42389701e-02,  8.39769561e-03,  3.40260044e-02,\n",
       "        5.62713109e-02, -1.05419546e-01,  6.34036884e-02, -7.18952343e-03,\n",
       "       -1.33097425e-01,  9.86235738e-02, -1.45090884e-03, -1.29504278e-01,\n",
       "        5.57912178e-02, -8.50327760e-02,  1.14969276e-01, -8.06494802e-02,\n",
       "       -3.75220329e-02,  5.14214970e-02,  4.52374630e-02, -1.27075374e-01,\n",
       "        2.69830935e-02,  1.28716212e-02, -8.58314410e-02, -4.15654816e-02,\n",
       "       -3.90005633e-02, -5.40434644e-02, -6.31658211e-02,  7.14037791e-02,\n",
       "        5.21427253e-03,  1.10631296e-03,  6.92405030e-02, -5.30086681e-02,\n",
       "       -6.13610446e-02,  3.02712005e-02, -1.67076048e-02,  2.22825706e-02,\n",
       "        6.95801079e-02, -3.67867909e-02, -1.00687653e-01, -1.63018443e-02,\n",
       "        4.26246375e-02,  3.54229026e-02, -3.59394960e-02, -2.23161895e-02,\n",
       "        5.96907921e-02,  3.48159969e-02, -3.88553366e-02,  4.35627960e-02,\n",
       "       -4.94524697e-03,  1.25999764e-01, -3.07737794e-02, -3.87974195e-02,\n",
       "        3.34604718e-02,  3.56371142e-02, -2.30602063e-02,  6.10924140e-02,\n",
       "       -2.05218373e-03, -5.15115783e-02, -6.77643204e-03,  2.61830539e-02,\n",
       "        1.12852603e-01,  1.17323846e-02, -5.70116611e-03, -1.83255691e-02,\n",
       "        1.49716884e-01,  4.50175032e-02,  4.02626731e-02,  7.93134347e-02,\n",
       "       -9.17502865e-02, -2.43800562e-02, -1.34875163e-01, -2.04853825e-02,\n",
       "        8.98400024e-02,  3.84953804e-02,  6.62859809e-03,  3.49208666e-03,\n",
       "       -2.46786401e-02, -3.09737623e-02, -8.91949311e-02,  3.80173102e-02,\n",
       "       -7.35114003e-03,  2.98242811e-02,  1.72177404e-02, -6.10786825e-02,\n",
       "       -1.09891323e-02,  9.98067111e-02,  3.25878635e-02,  8.92046466e-03,\n",
       "       -3.50305364e-02, -1.36318699e-01, -5.26613072e-02, -1.07676275e-01,\n",
       "        1.74915069e-03, -1.71407592e-02,  8.03794861e-02,  8.37977976e-02,\n",
       "        3.24507281e-02, -1.98317785e-03,  2.08543483e-02,  6.96472228e-02,\n",
       "        2.24397946e-02,  5.76397143e-02, -3.57822627e-02, -6.81053847e-02,\n",
       "        9.73442420e-02, -3.75246182e-02, -1.17855810e-01, -3.90041852e-04,\n",
       "        5.92117682e-02, -5.40272705e-02, -2.84574889e-02, -8.27072859e-02,\n",
       "       -3.38068455e-02, -2.82702763e-02, -5.57393581e-02, -6.01088814e-02,\n",
       "        2.24992130e-02, -7.98879773e-04, -3.18337418e-02,  5.69731966e-02,\n",
       "       -2.29067006e-03,  3.44002433e-02, -2.88054142e-02, -1.51066231e-02,\n",
       "        2.30635609e-03,  1.44386049e-02,  3.94307822e-02, -1.12736024e-01,\n",
       "       -1.71770845e-02,  3.84915806e-02, -7.00787529e-02,  1.57567654e-02,\n",
       "       -1.28064137e-02, -4.13040370e-02,  1.84305757e-02, -7.17128366e-02,\n",
       "        8.53955746e-02, -2.25251727e-02, -5.12747094e-02,  1.09174438e-01,\n",
       "        1.12434238e-01, -1.18979603e-01,  5.96996536e-03,  3.98558490e-02,\n",
       "        4.62032557e-02, -8.09544027e-02, -6.54089358e-03,  1.34540768e-02,\n",
       "        7.30593204e-02, -4.06192197e-03, -5.86768612e-03, -1.85201503e-02],\n",
       "      dtype=float32)"
      ]
     },
     "execution_count": 36,
     "metadata": {},
     "output_type": "execute_result"
    }
   ],
   "source": [
    "model[\"flower\"]"
   ]
  },
  {
   "cell_type": "code",
   "execution_count": 51,
   "metadata": {},
   "outputs": [],
   "source": [
    "import numpy as np  # Make sure that numpy is imported\n",
    "\n",
    "def makeFeatureVec(words, model, num_features):\n",
    "    # Function to average all of the word vectors in a given\n",
    "    # paragraph\n",
    "    #\n",
    "    # Pre-initialize an empty numpy array (for speed)\n",
    "    featureVec = np.zeros((num_features,),dtype=\"float32\")\n",
    "    #\n",
    "    nwords = 0.0\n",
    "    # \n",
    "    # Index2word is a list that contains the names of the words in \n",
    "    # the model's vocabulary. Convert it to a set, for speed \n",
    "    index2word_set = set(model.wv.index2word)\n",
    "    #\n",
    "    # Loop over each word in the review and, if it is in the model's\n",
    "    # vocaublary, add its feature vector to the total\n",
    "    for word in words:\n",
    "        if word in index2word_set: \n",
    "            nwords = nwords + 1.0\n",
    "            featureVec = np.add(featureVec,model[word])\n",
    "    # \n",
    "    # Divide the result by the number of words to get the average\n",
    "    featureVec = np.divide(featureVec,nwords)\n",
    "    return featureVec\n",
    "\n",
    "\n",
    "def getAvgFeatureVecs(reviews, model, num_features):\n",
    "    # Given a set of reviews (each one a list of words), calculate \n",
    "    # the average feature vector for each one and return a 2D numpy array \n",
    "    # \n",
    "    # Initialize a counter\n",
    "    counter = 0\n",
    "    # \n",
    "    # Preallocate a 2D numpy array, for speed\n",
    "    reviewFeatureVecs = np.zeros((len(reviews),num_features),dtype=\"float32\")\n",
    "    # \n",
    "    # Loop through the reviews\n",
    "    for review in reviews:\n",
    "       #\n",
    "       # Print a status message every 1000th review\n",
    "       if counter%1000. == 0.:\n",
    "           print (\"Review %d of %d\" % (counter, len(reviews)))\n",
    "       # \n",
    "       # Call the function (defined above) that makes average feature vectors\n",
    "       reviewFeatureVecs[counter] = makeFeatureVec(review, model,num_features)\n",
    "       #\n",
    "       # Increment the counter\n",
    "       counter = counter + 1\n",
    "    return reviewFeatureVecs"
   ]
  },
  {
   "cell_type": "code",
   "execution_count": 52,
   "metadata": {},
   "outputs": [
    {
     "name": "stdout",
     "output_type": "stream",
     "text": [
      "Review 0 of 25000\n",
      "Review 1000 of 25000\n",
      "Review 2000 of 25000\n",
      "Review 3000 of 25000\n",
      "Review 4000 of 25000\n",
      "Review 5000 of 25000\n",
      "Review 6000 of 25000\n",
      "Review 7000 of 25000\n",
      "Review 8000 of 25000\n",
      "Review 9000 of 25000\n",
      "Review 10000 of 25000\n",
      "Review 11000 of 25000\n",
      "Review 12000 of 25000\n",
      "Review 13000 of 25000\n",
      "Review 14000 of 25000\n",
      "Review 15000 of 25000\n",
      "Review 16000 of 25000\n",
      "Review 17000 of 25000\n",
      "Review 18000 of 25000\n",
      "Review 19000 of 25000\n",
      "Review 20000 of 25000\n",
      "Review 21000 of 25000\n",
      "Review 22000 of 25000\n",
      "Review 23000 of 25000\n",
      "Review 24000 of 25000\n",
      "Creating average feature vecs for test reviews\n",
      "Review 0 of 25000\n",
      "Review 1000 of 25000\n",
      "Review 2000 of 25000\n",
      "Review 3000 of 25000\n",
      "Review 4000 of 25000\n",
      "Review 5000 of 25000\n",
      "Review 6000 of 25000\n",
      "Review 7000 of 25000\n",
      "Review 8000 of 25000\n",
      "Review 9000 of 25000\n",
      "Review 10000 of 25000\n",
      "Review 11000 of 25000\n",
      "Review 12000 of 25000\n",
      "Review 13000 of 25000\n",
      "Review 14000 of 25000\n",
      "Review 15000 of 25000\n",
      "Review 16000 of 25000\n",
      "Review 17000 of 25000\n",
      "Review 18000 of 25000\n",
      "Review 19000 of 25000\n",
      "Review 20000 of 25000\n",
      "Review 21000 of 25000\n",
      "Review 22000 of 25000\n",
      "Review 23000 of 25000\n",
      "Review 24000 of 25000\n"
     ]
    }
   ],
   "source": [
    "# ****************************************************************\n",
    "# Calculate average feature vectors for training and testing sets,\n",
    "# using the functions we defined above. Notice that we now use stop word\n",
    "# removal.\n",
    "\n",
    "clean_train_reviews = []\n",
    "for review in train[\"review\"]:\n",
    "    clean_train_reviews.append( review_to_wordlist( review, \\\n",
    "        remove_stopwords=True ))\n",
    "\n",
    "trainDataVecs = getAvgFeatureVecs( clean_train_reviews, model, num_features )\n",
    "\n",
    "print (\"Creating average feature vecs for test reviews\")\n",
    "clean_test_reviews = []\n",
    "for review in test[\"review\"]:\n",
    "    clean_test_reviews.append( review_to_wordlist( review, \\\n",
    "        remove_stopwords=True ))\n",
    "\n",
    "testDataVecs = getAvgFeatureVecs( clean_test_reviews, model, num_features)"
   ]
  },
  {
   "cell_type": "code",
   "execution_count": 54,
   "metadata": {},
   "outputs": [
    {
     "name": "stdout",
     "output_type": "stream",
     "text": [
      "Fitting a random forest to labeled training data...\n"
     ]
    }
   ],
   "source": [
    "# Fit a random forest to the training data, using 100 trees\n",
    "from sklearn.ensemble import RandomForestClassifier\n",
    "forest = RandomForestClassifier( n_estimators = 100 )\n",
    "\n",
    "print( \"Fitting a random forest to labeled training data...\")\n",
    "forest = forest.fit( trainDataVecs, train[\"sentiment\"] )\n",
    "\n",
    "# Test & extract results \n",
    "result = forest.predict( testDataVecs )\n",
    "\n",
    "# Write the test results \n",
    "output = pd.DataFrame( data={\"id\":test[\"id\"], \"sentiment\":result} )\n",
    "output.to_csv( \"Word2Vec_AverageVectors.csv\", index=False, quoting=3 )"
   ]
  },
  {
   "cell_type": "code",
   "execution_count": 61,
   "metadata": {},
   "outputs": [
    {
     "name": "stdout",
     "output_type": "stream",
     "text": [
      "Time taken for K Means clustering:  759.3556344509125 seconds.\n"
     ]
    }
   ],
   "source": [
    "from sklearn.cluster import KMeans\n",
    "import time\n",
    "\n",
    "start = time.time() # Start time\n",
    "\n",
    "# Set \"k\" (num_clusters) to be 1/5th of the vocabulary size, or an\n",
    "# average of 5 words per cluster\n",
    "word_vectors = model.wv.syn0\n",
    "num_clusters = word_vectors.shape[0] / 5\n",
    "\n",
    "# Initalize a k-means object and use it to extract centroids\n",
    "kmeans_clustering = KMeans( n_clusters = int(num_clusters ))\n",
    "idx = kmeans_clustering.fit_predict(word_vectors)\n",
    "\n",
    "# Get the end time and print how long the process took\n",
    "end = time.time()\n",
    "elapsed = end - start\n",
    "print (\"Time taken for K Means clustering: \", elapsed, \"seconds.\")"
   ]
  },
  {
   "cell_type": "code",
   "execution_count": 63,
   "metadata": {},
   "outputs": [],
   "source": [
    "# Create a Word / Index dictionary, mapping each vocabulary word to\n",
    "# a cluster number                                                                                            \n",
    "word_centroid_map = dict(zip( model.wv.index2word, idx ))"
   ]
  },
  {
   "cell_type": "code",
   "execution_count": 78,
   "metadata": {},
   "outputs": [
    {
     "name": "stdout",
     "output_type": "stream",
     "text": [
      "\n",
      "Cluster 0\n",
      "['church', 'priest', 'monk', 'nun', 'marcos', 'warlock']\n",
      "\n",
      "Cluster 1\n",
      "['franz', 'sweeney']\n",
      "\n",
      "Cluster 2\n",
      "['via', 'transport', 'testing', 'solar', 'signals', 'conducting', 'breeding', 'debating']\n",
      "\n",
      "Cluster 3\n",
      "['amelie', 'soulful', 'sensuous', 'bubbly', 'emotive']\n",
      "\n",
      "Cluster 4\n",
      "['countries', 'groups', 'citizens', 'conditions', 'leaders', 'nations', 'immigrants', 'atrocities', 'disasters', 'refugees', 'communities', 'units', 'governments', 'prisons', 'institutions']\n",
      "\n",
      "Cluster 5\n",
      "['technical', 'logic', 'continuity']\n",
      "\n",
      "Cluster 6\n",
      "['immortal', 'bastard', 'reaper', 'lucifer', 'morgana', 'reborn', 'reincarnated']\n",
      "\n",
      "Cluster 7\n",
      "['mode', 'dive', 'frenzy', 'bumps', 'trance', 'dives', 'injects', 'comfortably', 'degenerate', 'dissolves', 'plunges', 'vortex', 'plunge', 'breathes', 'splits']\n",
      "\n",
      "Cluster 8\n",
      "['superior', 'inferior', 'spawned']\n",
      "\n",
      "Cluster 9\n",
      "['miller', 'carter', 'ross', 'tracy', 'hart', 'clarke', 'robbie', 'gardner', 'holliday', 'rodgers', 'gerry', 'haas', 'howell', 'hinds']\n"
     ]
    }
   ],
   "source": [
    "# For the first 10 clusters\n",
    "for cluster in range(0,10):\n",
    "    #\n",
    "    # Print the cluster number  \n",
    "    print (\"\\nCluster %d\" % cluster)\n",
    "    #\n",
    "    # Find all of the words for that cluster number, and print them out\n",
    "    words = []\n",
    "#     print(list(word_centroid_map.values())[0])\n",
    "    for i in range(0,len(word_centroid_map.values())):\n",
    "        if( list(word_centroid_map.values())[i] == cluster ):\n",
    "            words.append(list(word_centroid_map.keys())[i])\n",
    "    print( words)"
   ]
  },
  {
   "cell_type": "code",
   "execution_count": 79,
   "metadata": {},
   "outputs": [],
   "source": [
    "def create_bag_of_centroids( wordlist, word_centroid_map ):\n",
    "    #\n",
    "    # The number of clusters is equal to the highest cluster index\n",
    "    # in the word / centroid map\n",
    "    num_centroids = max( word_centroid_map.values() ) + 1\n",
    "    #\n",
    "    # Pre-allocate the bag of centroids vector (for speed)\n",
    "    bag_of_centroids = np.zeros( num_centroids, dtype=\"float32\" )\n",
    "    #\n",
    "    # Loop over the words in the review. If the word is in the vocabulary,\n",
    "    # find which cluster it belongs to, and increment that cluster count \n",
    "    # by one\n",
    "    for word in wordlist:\n",
    "        if word in word_centroid_map:\n",
    "            index = word_centroid_map[word]\n",
    "            bag_of_centroids[index] += 1\n",
    "    #\n",
    "    # Return the \"bag of centroids\"\n",
    "    return bag_of_centroids"
   ]
  },
  {
   "cell_type": "code",
   "execution_count": 82,
   "metadata": {},
   "outputs": [],
   "source": [
    "# Pre-allocate an array for the training set bags of centroids (for speed)\n",
    "train_centroids = np.zeros( (train[\"review\"].size, int(num_clusters)), \\\n",
    "    dtype=\"float32\" )\n",
    "\n",
    "# Transform the training set reviews into bags of centroids\n",
    "counter = 0\n",
    "for review in clean_train_reviews:\n",
    "    train_centroids[counter] = create_bag_of_centroids( review, \\\n",
    "        word_centroid_map )\n",
    "    counter += 1\n",
    "\n",
    "# Repeat for test reviews \n",
    "test_centroids = np.zeros(( test[\"review\"].size, int(num_clusters)), \\\n",
    "    dtype=\"float32\" )\n",
    "\n",
    "counter = 0\n",
    "for review in clean_test_reviews:\n",
    "    test_centroids[counter] = create_bag_of_centroids( review, \\\n",
    "        word_centroid_map )\n",
    "    counter += 1"
   ]
  },
  {
   "cell_type": "code",
   "execution_count": 83,
   "metadata": {},
   "outputs": [
    {
     "name": "stdout",
     "output_type": "stream",
     "text": [
      "Fitting a random forest to labeled training data...\n"
     ]
    }
   ],
   "source": [
    "# Fit a random forest and extract predictions \n",
    "forest = RandomForestClassifier(n_estimators = 100)\n",
    "\n",
    "# Fitting the forest may take a few minutes\n",
    "print (\"Fitting a random forest to labeled training data...\")\n",
    "forest = forest.fit(train_centroids,train[\"sentiment\"])\n",
    "result = forest.predict(test_centroids)\n",
    "\n",
    "# Write the test results \n",
    "output = pd.DataFrame(data={\"id\":test[\"id\"], \"sentiment\":result})\n",
    "output.to_csv( \"BagOfCentroids.csv\", index=False, quoting=3 )"
   ]
  }
 ],
 "metadata": {
  "kernelspec": {
   "display_name": "Python 3",
   "language": "python",
   "name": "python3"
  },
  "language_info": {
   "codemirror_mode": {
    "name": "ipython",
    "version": 3
   },
   "file_extension": ".py",
   "mimetype": "text/x-python",
   "name": "python",
   "nbconvert_exporter": "python",
   "pygments_lexer": "ipython3",
   "version": "3.8.5"
  }
 },
 "nbformat": 4,
 "nbformat_minor": 4
}
