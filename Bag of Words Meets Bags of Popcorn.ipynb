{
 "cells": [
  {
   "cell_type": "code",
   "execution_count": 1,
   "metadata": {},
   "outputs": [],
   "source": [
    "# Import the pandas package, then use the \"read_csv\" function to read\n",
    "# the labeled training data\n",
    "import pandas as pd       \n",
    "train = pd.read_csv(\"labeledTrainData.tsv\", header=0, \\\n",
    "                    delimiter=\"\\t\", quoting=3)"
   ]
  },
  {
   "cell_type": "code",
   "execution_count": 2,
   "metadata": {},
   "outputs": [
    {
     "data": {
      "text/plain": [
       "(25000, 3)"
      ]
     },
     "execution_count": 2,
     "metadata": {},
     "output_type": "execute_result"
    }
   ],
   "source": [
    "train.shape"
   ]
  },
  {
   "cell_type": "code",
   "execution_count": 3,
   "metadata": {},
   "outputs": [
    {
     "data": {
      "text/plain": [
       "array(['id', 'sentiment', 'review'], dtype=object)"
      ]
     },
     "execution_count": 3,
     "metadata": {},
     "output_type": "execute_result"
    }
   ],
   "source": [
    "train.columns.values"
   ]
  },
  {
   "cell_type": "code",
   "execution_count": 5,
   "metadata": {},
   "outputs": [
    {
     "name": "stdout",
     "output_type": "stream",
     "text": [
      "\"With all this stuff going down at the moment with MJ i've started listening to his music, watching the odd documentary here and there, watched The Wiz and watched Moonwalker again. Maybe i just want to get a certain insight into this guy who i thought was really cool in the eighties just to maybe make up my mind whether he is guilty or innocent. Moonwalker is part biography, part feature film which i remember going to see at the cinema when it was originally released. Some of it has subtle messages about MJ's feeling towards the press and also the obvious message of drugs are bad m'kay.<br /><br />Visually impressive but of course this is all about Michael Jackson so unless you remotely like MJ in anyway then you are going to hate this and find it boring. Some may call MJ an egotist for consenting to the making of this movie BUT MJ and most of his fans would say that he made it for the fans which if true is really nice of him.<br /><br />The actual feature film bit when it finally starts is only on for 20 minutes or so excluding the Smooth Criminal sequence and Joe Pesci is convincing as a psychopathic all powerful drug lord. Why he wants MJ dead so bad is beyond me. Because MJ overheard his plans? Nah, Joe Pesci's character ranted that he wanted people to know it is he who is supplying drugs etc so i dunno, maybe he just hates MJ's music.<br /><br />Lots of cool things in this like MJ turning into a car and a robot and the whole Speed Demon sequence. Also, the director must have had the patience of a saint when it came to filming the kiddy Bad sequence as usually directors hate working with one kid let alone a whole bunch of them performing a complex dance scene.<br /><br />Bottom line, this movie is for people who like MJ on one level or another (which i think is most people). If not, then stay away. It does try and give off a wholesome message and ironically MJ's bestest buddy in this movie is a girl! Michael Jackson is truly one of the most talented people ever to grace this planet but is he guilty? Well, with all the attention i've gave this subject....hmmm well i don't know because people can be different behind closed doors, i know this for a fact. He is either an extremely nice but stupid guy or one of the most sickest liars. I hope he is not the latter.\"\n"
     ]
    }
   ],
   "source": [
    "print(train[\"review\"][0])"
   ]
  },
  {
   "cell_type": "code",
   "execution_count": 6,
   "metadata": {},
   "outputs": [
    {
     "name": "stdout",
     "output_type": "stream",
     "text": [
      "\"With all this stuff going down at the moment with MJ i've started listening to his music, watching the odd documentary here and there, watched The Wiz and watched Moonwalker again. Maybe i just want to get a certain insight into this guy who i thought was really cool in the eighties just to maybe make up my mind whether he is guilty or innocent. Moonwalker is part biography, part feature film which i remember going to see at the cinema when it was originally released. Some of it has subtle messages about MJ's feeling towards the press and also the obvious message of drugs are bad m'kay.<br /><br />Visually impressive but of course this is all about Michael Jackson so unless you remotely like MJ in anyway then you are going to hate this and find it boring. Some may call MJ an egotist for consenting to the making of this movie BUT MJ and most of his fans would say that he made it for the fans which if true is really nice of him.<br /><br />The actual feature film bit when it finally starts is only on for 20 minutes or so excluding the Smooth Criminal sequence and Joe Pesci is convincing as a psychopathic all powerful drug lord. Why he wants MJ dead so bad is beyond me. Because MJ overheard his plans? Nah, Joe Pesci's character ranted that he wanted people to know it is he who is supplying drugs etc so i dunno, maybe he just hates MJ's music.<br /><br />Lots of cool things in this like MJ turning into a car and a robot and the whole Speed Demon sequence. Also, the director must have had the patience of a saint when it came to filming the kiddy Bad sequence as usually directors hate working with one kid let alone a whole bunch of them performing a complex dance scene.<br /><br />Bottom line, this movie is for people who like MJ on one level or another (which i think is most people). If not, then stay away. It does try and give off a wholesome message and ironically MJ's bestest buddy in this movie is a girl! Michael Jackson is truly one of the most talented people ever to grace this planet but is he guilty? Well, with all the attention i've gave this subject....hmmm well i don't know because people can be different behind closed doors, i know this for a fact. He is either an extremely nice but stupid guy or one of the most sickest liars. I hope he is not the latter.\"\n",
      "\"With all this stuff going down at the moment with MJ i've started listening to his music, watching the odd documentary here and there, watched The Wiz and watched Moonwalker again. Maybe i just want to get a certain insight into this guy who i thought was really cool in the eighties just to maybe make up my mind whether he is guilty or innocent. Moonwalker is part biography, part feature film which i remember going to see at the cinema when it was originally released. Some of it has subtle messages about MJ's feeling towards the press and also the obvious message of drugs are bad m'kay.Visually impressive but of course this is all about Michael Jackson so unless you remotely like MJ in anyway then you are going to hate this and find it boring. Some may call MJ an egotist for consenting to the making of this movie BUT MJ and most of his fans would say that he made it for the fans which if true is really nice of him.The actual feature film bit when it finally starts is only on for 20 minutes or so excluding the Smooth Criminal sequence and Joe Pesci is convincing as a psychopathic all powerful drug lord. Why he wants MJ dead so bad is beyond me. Because MJ overheard his plans? Nah, Joe Pesci's character ranted that he wanted people to know it is he who is supplying drugs etc so i dunno, maybe he just hates MJ's music.Lots of cool things in this like MJ turning into a car and a robot and the whole Speed Demon sequence. Also, the director must have had the patience of a saint when it came to filming the kiddy Bad sequence as usually directors hate working with one kid let alone a whole bunch of them performing a complex dance scene.Bottom line, this movie is for people who like MJ on one level or another (which i think is most people). If not, then stay away. It does try and give off a wholesome message and ironically MJ's bestest buddy in this movie is a girl! Michael Jackson is truly one of the most talented people ever to grace this planet but is he guilty? Well, with all the attention i've gave this subject....hmmm well i don't know because people can be different behind closed doors, i know this for a fact. He is either an extremely nice but stupid guy or one of the most sickest liars. I hope he is not the latter.\"\n"
     ]
    }
   ],
   "source": [
    "# Import BeautifulSoup into your workspace\n",
    "from bs4 import BeautifulSoup             \n",
    "\n",
    "# Initialize the BeautifulSoup object on a single movie review     \n",
    "example1 = BeautifulSoup(train[\"review\"][0])  \n",
    "\n",
    "# Print the raw review and then the output of get_text(), for \n",
    "# comparison\n",
    "print(train[\"review\"][0])\n",
    "print(example1.get_text())"
   ]
  },
  {
   "cell_type": "code",
   "execution_count": 7,
   "metadata": {},
   "outputs": [
    {
     "name": "stdout",
     "output_type": "stream",
     "text": [
      " With all this stuff going down at the moment with MJ i ve started listening to his music  watching the odd documentary here and there  watched The Wiz and watched Moonwalker again  Maybe i just want to get a certain insight into this guy who i thought was really cool in the eighties just to maybe make up my mind whether he is guilty or innocent  Moonwalker is part biography  part feature film which i remember going to see at the cinema when it was originally released  Some of it has subtle messages about MJ s feeling towards the press and also the obvious message of drugs are bad m kay Visually impressive but of course this is all about Michael Jackson so unless you remotely like MJ in anyway then you are going to hate this and find it boring  Some may call MJ an egotist for consenting to the making of this movie BUT MJ and most of his fans would say that he made it for the fans which if true is really nice of him The actual feature film bit when it finally starts is only on for    minutes or so excluding the Smooth Criminal sequence and Joe Pesci is convincing as a psychopathic all powerful drug lord  Why he wants MJ dead so bad is beyond me  Because MJ overheard his plans  Nah  Joe Pesci s character ranted that he wanted people to know it is he who is supplying drugs etc so i dunno  maybe he just hates MJ s music Lots of cool things in this like MJ turning into a car and a robot and the whole Speed Demon sequence  Also  the director must have had the patience of a saint when it came to filming the kiddy Bad sequence as usually directors hate working with one kid let alone a whole bunch of them performing a complex dance scene Bottom line  this movie is for people who like MJ on one level or another  which i think is most people   If not  then stay away  It does try and give off a wholesome message and ironically MJ s bestest buddy in this movie is a girl  Michael Jackson is truly one of the most talented people ever to grace this planet but is he guilty  Well  with all the attention i ve gave this subject    hmmm well i don t know because people can be different behind closed doors  i know this for a fact  He is either an extremely nice but stupid guy or one of the most sickest liars  I hope he is not the latter  \n"
     ]
    }
   ],
   "source": [
    "import re\n",
    "# Use regular expressions to do a find-and-replace\n",
    "letters_only = re.sub(\"[^a-zA-Z]\",           # The pattern to search for\n",
    "                      \" \",                   # The pattern to replace it with\n",
    "                      example1.get_text() )  # The text to search\n",
    "print(letters_only)"
   ]
  },
  {
   "cell_type": "code",
   "execution_count": 8,
   "metadata": {},
   "outputs": [],
   "source": [
    "lower_case = letters_only.lower()        # Convert to lower case\n",
    "words = lower_case.split()               # Split into words"
   ]
  },
  {
   "cell_type": "code",
   "execution_count": 9,
   "metadata": {},
   "outputs": [
    {
     "name": "stdout",
     "output_type": "stream",
     "text": [
      "showing info https://raw.githubusercontent.com/nltk/nltk_data/gh-pages/index.xml\n"
     ]
    },
    {
     "data": {
      "text/plain": [
       "True"
      ]
     },
     "execution_count": 9,
     "metadata": {},
     "output_type": "execute_result"
    }
   ],
   "source": [
    "import nltk\n",
    "nltk.download()  # Download text data sets, including stop words"
   ]
  },
  {
   "cell_type": "code",
   "execution_count": 11,
   "metadata": {},
   "outputs": [
    {
     "name": "stdout",
     "output_type": "stream",
     "text": [
      "['i', 'me', 'my', 'myself', 'we', 'our', 'ours', 'ourselves', 'you', \"you're\", \"you've\", \"you'll\", \"you'd\", 'your', 'yours', 'yourself', 'yourselves', 'he', 'him', 'his', 'himself', 'she', \"she's\", 'her', 'hers', 'herself', 'it', \"it's\", 'its', 'itself', 'they', 'them', 'their', 'theirs', 'themselves', 'what', 'which', 'who', 'whom', 'this', 'that', \"that'll\", 'these', 'those', 'am', 'is', 'are', 'was', 'were', 'be', 'been', 'being', 'have', 'has', 'had', 'having', 'do', 'does', 'did', 'doing', 'a', 'an', 'the', 'and', 'but', 'if', 'or', 'because', 'as', 'until', 'while', 'of', 'at', 'by', 'for', 'with', 'about', 'against', 'between', 'into', 'through', 'during', 'before', 'after', 'above', 'below', 'to', 'from', 'up', 'down', 'in', 'out', 'on', 'off', 'over', 'under', 'again', 'further', 'then', 'once', 'here', 'there', 'when', 'where', 'why', 'how', 'all', 'any', 'both', 'each', 'few', 'more', 'most', 'other', 'some', 'such', 'no', 'nor', 'not', 'only', 'own', 'same', 'so', 'than', 'too', 'very', 's', 't', 'can', 'will', 'just', 'don', \"don't\", 'should', \"should've\", 'now', 'd', 'll', 'm', 'o', 're', 've', 'y', 'ain', 'aren', \"aren't\", 'couldn', \"couldn't\", 'didn', \"didn't\", 'doesn', \"doesn't\", 'hadn', \"hadn't\", 'hasn', \"hasn't\", 'haven', \"haven't\", 'isn', \"isn't\", 'ma', 'mightn', \"mightn't\", 'mustn', \"mustn't\", 'needn', \"needn't\", 'shan', \"shan't\", 'shouldn', \"shouldn't\", 'wasn', \"wasn't\", 'weren', \"weren't\", 'won', \"won't\", 'wouldn', \"wouldn't\"]\n"
     ]
    }
   ],
   "source": [
    "from nltk.corpus import stopwords # Import the stop word list\n",
    "print(stopwords.words(\"english\"))"
   ]
  },
  {
   "cell_type": "code",
   "execution_count": 12,
   "metadata": {},
   "outputs": [
    {
     "name": "stdout",
     "output_type": "stream",
     "text": [
      "['stuff', 'going', 'moment', 'mj', 'started', 'listening', 'music', 'watching', 'odd', 'documentary', 'watched', 'wiz', 'watched', 'moonwalker', 'maybe', 'want', 'get', 'certain', 'insight', 'guy', 'thought', 'really', 'cool', 'eighties', 'maybe', 'make', 'mind', 'whether', 'guilty', 'innocent', 'moonwalker', 'part', 'biography', 'part', 'feature', 'film', 'remember', 'going', 'see', 'cinema', 'originally', 'released', 'subtle', 'messages', 'mj', 'feeling', 'towards', 'press', 'also', 'obvious', 'message', 'drugs', 'bad', 'kay', 'visually', 'impressive', 'course', 'michael', 'jackson', 'unless', 'remotely', 'like', 'mj', 'anyway', 'going', 'hate', 'find', 'boring', 'may', 'call', 'mj', 'egotist', 'consenting', 'making', 'movie', 'mj', 'fans', 'would', 'say', 'made', 'fans', 'true', 'really', 'nice', 'actual', 'feature', 'film', 'bit', 'finally', 'starts', 'minutes', 'excluding', 'smooth', 'criminal', 'sequence', 'joe', 'pesci', 'convincing', 'psychopathic', 'powerful', 'drug', 'lord', 'wants', 'mj', 'dead', 'bad', 'beyond', 'mj', 'overheard', 'plans', 'nah', 'joe', 'pesci', 'character', 'ranted', 'wanted', 'people', 'know', 'supplying', 'drugs', 'etc', 'dunno', 'maybe', 'hates', 'mj', 'music', 'lots', 'cool', 'things', 'like', 'mj', 'turning', 'car', 'robot', 'whole', 'speed', 'demon', 'sequence', 'also', 'director', 'must', 'patience', 'saint', 'came', 'filming', 'kiddy', 'bad', 'sequence', 'usually', 'directors', 'hate', 'working', 'one', 'kid', 'let', 'alone', 'whole', 'bunch', 'performing', 'complex', 'dance', 'scene', 'bottom', 'line', 'movie', 'people', 'like', 'mj', 'one', 'level', 'another', 'think', 'people', 'stay', 'away', 'try', 'give', 'wholesome', 'message', 'ironically', 'mj', 'bestest', 'buddy', 'movie', 'girl', 'michael', 'jackson', 'truly', 'one', 'talented', 'people', 'ever', 'grace', 'planet', 'guilty', 'well', 'attention', 'gave', 'subject', 'hmmm', 'well', 'know', 'people', 'different', 'behind', 'closed', 'doors', 'know', 'fact', 'either', 'extremely', 'nice', 'stupid', 'guy', 'one', 'sickest', 'liars', 'hope', 'latter']\n"
     ]
    }
   ],
   "source": [
    "# Remove stop words from \"words\"\n",
    "words = [w for w in words if not w in stopwords.words(\"english\")]\n",
    "print(words)"
   ]
  },
  {
   "cell_type": "code",
   "execution_count": 13,
   "metadata": {},
   "outputs": [],
   "source": [
    "def review_to_words( raw_review ):\n",
    "    # Function to convert a raw review to a string of words\n",
    "    # The input is a single string (a raw movie review), and \n",
    "    # the output is a single string (a preprocessed movie review)\n",
    "    #\n",
    "    # 1. Remove HTML\n",
    "    review_text = BeautifulSoup(raw_review).get_text() \n",
    "    #\n",
    "    # 2. Remove non-letters        \n",
    "    letters_only = re.sub(\"[^a-zA-Z]\", \" \", review_text) \n",
    "    #\n",
    "    # 3. Convert to lower case, split into individual words\n",
    "    words = letters_only.lower().split()                             \n",
    "    #\n",
    "    # 4. In Python, searching a set is much faster than searching\n",
    "    #   a list, so convert the stop words to a set\n",
    "    stops = set(stopwords.words(\"english\"))                  \n",
    "    # \n",
    "    # 5. Remove stop words\n",
    "    meaningful_words = [w for w in words if not w in stops]   \n",
    "    #\n",
    "    # 6. Join the words back into one string separated by space, \n",
    "    # and return the result.\n",
    "    return( \" \".join( meaningful_words ))   "
   ]
  },
  {
   "cell_type": "code",
   "execution_count": 14,
   "metadata": {},
   "outputs": [
    {
     "name": "stdout",
     "output_type": "stream",
     "text": [
      "stuff going moment mj started listening music watching odd documentary watched wiz watched moonwalker maybe want get certain insight guy thought really cool eighties maybe make mind whether guilty innocent moonwalker part biography part feature film remember going see cinema originally released subtle messages mj feeling towards press also obvious message drugs bad kay visually impressive course michael jackson unless remotely like mj anyway going hate find boring may call mj egotist consenting making movie mj fans would say made fans true really nice actual feature film bit finally starts minutes excluding smooth criminal sequence joe pesci convincing psychopathic powerful drug lord wants mj dead bad beyond mj overheard plans nah joe pesci character ranted wanted people know supplying drugs etc dunno maybe hates mj music lots cool things like mj turning car robot whole speed demon sequence also director must patience saint came filming kiddy bad sequence usually directors hate working one kid let alone whole bunch performing complex dance scene bottom line movie people like mj one level another think people stay away try give wholesome message ironically mj bestest buddy movie girl michael jackson truly one talented people ever grace planet guilty well attention gave subject hmmm well know people different behind closed doors know fact either extremely nice stupid guy one sickest liars hope latter\n"
     ]
    }
   ],
   "source": [
    "clean_review = review_to_words( train[\"review\"][0] )\n",
    "print(clean_review)"
   ]
  },
  {
   "cell_type": "code",
   "execution_count": 17,
   "metadata": {},
   "outputs": [],
   "source": [
    "# Get the number of reviews based on the dataframe column size\n",
    "num_reviews = train[\"review\"].size\n",
    "\n",
    "# Initialize an empty list to hold the clean reviews\n",
    "clean_train_reviews = []\n",
    "\n",
    "# Loop over each review; create an index i that goes from 0 to the length\n",
    "# of the movie review list \n",
    "for i in range(0, num_reviews):\n",
    "    # Call our function for each one, and add the result to the list of\n",
    "    # clean reviews\n",
    "    clean_train_reviews.append( review_to_words( train[\"review\"][i] ) )"
   ]
  },
  {
   "cell_type": "code",
   "execution_count": 19,
   "metadata": {},
   "outputs": [
    {
     "name": "stdout",
     "output_type": "stream",
     "text": [
      "Cleaning and parsing the training set movie reviews...\n",
      "\n",
      "Review 1000 of 25000\n",
      "\n",
      "Review 2000 of 25000\n",
      "\n",
      "Review 3000 of 25000\n",
      "\n",
      "Review 4000 of 25000\n",
      "\n",
      "Review 5000 of 25000\n",
      "\n",
      "Review 6000 of 25000\n",
      "\n",
      "Review 7000 of 25000\n",
      "\n",
      "Review 8000 of 25000\n",
      "\n",
      "Review 9000 of 25000\n",
      "\n",
      "Review 10000 of 25000\n",
      "\n",
      "Review 11000 of 25000\n",
      "\n",
      "Review 12000 of 25000\n",
      "\n",
      "Review 13000 of 25000\n",
      "\n",
      "Review 14000 of 25000\n",
      "\n",
      "Review 15000 of 25000\n",
      "\n",
      "Review 16000 of 25000\n",
      "\n",
      "Review 17000 of 25000\n",
      "\n",
      "Review 18000 of 25000\n",
      "\n",
      "Review 19000 of 25000\n",
      "\n",
      "Review 20000 of 25000\n",
      "\n",
      "Review 21000 of 25000\n",
      "\n",
      "Review 22000 of 25000\n",
      "\n",
      "Review 23000 of 25000\n",
      "\n",
      "Review 24000 of 25000\n",
      "\n",
      "Review 25000 of 25000\n",
      "\n"
     ]
    }
   ],
   "source": [
    "print(\"Cleaning and parsing the training set movie reviews...\\n\")\n",
    "clean_train_reviews = []\n",
    "for i in range( 0, num_reviews):\n",
    "    # If the index is evenly divisible by 1000, print a message\n",
    "    if( (i+1)%1000 == 0 ):\n",
    "        print(\"Review %d of %d\\n\" % ( i+1, num_reviews ))                                                                   \n",
    "    clean_train_reviews.append( review_to_words( train[\"review\"][i] ))"
   ]
  },
  {
   "cell_type": "code",
   "execution_count": 20,
   "metadata": {},
   "outputs": [
    {
     "name": "stdout",
     "output_type": "stream",
     "text": [
      "Creating the bag of words...\n",
      "\n"
     ]
    }
   ],
   "source": [
    "print(\"Creating the bag of words...\\n\")\n",
    "from sklearn.feature_extraction.text import CountVectorizer\n",
    "\n",
    "# Initialize the \"CountVectorizer\" object, which is scikit-learn's\n",
    "# bag of words tool.  \n",
    "vectorizer = CountVectorizer(analyzer = \"word\",   \\\n",
    "                             tokenizer = None,    \\\n",
    "                             preprocessor = None, \\\n",
    "                             stop_words = None,   \\\n",
    "                             max_features = 5000) \n",
    "\n",
    "# fit_transform() does two functions: First, it fits the model\n",
    "# and learns the vocabulary; second, it transforms our training data\n",
    "# into feature vectors. The input to fit_transform should be a list of \n",
    "# strings.\n",
    "train_data_features = vectorizer.fit_transform(clean_train_reviews)\n",
    "\n",
    "# Numpy arrays are easy to work with, so convert the result to an \n",
    "# array\n",
    "train_data_features = train_data_features.toarray()"
   ]
  },
  {
   "cell_type": "code",
   "execution_count": 21,
   "metadata": {},
   "outputs": [
    {
     "data": {
      "text/plain": [
       "(25000, 5000)"
      ]
     },
     "execution_count": 21,
     "metadata": {},
     "output_type": "execute_result"
    }
   ],
   "source": [
    "train_data_features.shape"
   ]
  },
  {
   "cell_type": "code",
   "execution_count": 24,
   "metadata": {},
   "outputs": [],
   "source": [
    "# Take a look at the words in the vocabulary\n",
    "vocab = vectorizer.get_feature_names()"
   ]
  },
  {
   "cell_type": "code",
   "execution_count": 25,
   "metadata": {},
   "outputs": [],
   "source": [
    "import numpy as np\n",
    "\n",
    "# Sum up the counts of each vocabulary word\n",
    "dist = np.sum(train_data_features, axis=0)\n",
    "\n",
    "# For each, print the vocabulary word and the number of times it \n",
    "# appears in the training set\n",
    "# for tag, count in zip(vocab, dist):\n",
    "#     print(count, tag)"
   ]
  },
  {
   "cell_type": "code",
   "execution_count": 27,
   "metadata": {},
   "outputs": [
    {
     "name": "stdout",
     "output_type": "stream",
     "text": [
      "Training the random forest...\n"
     ]
    }
   ],
   "source": [
    "print(\"Training the random forest...\")\n",
    "from sklearn.ensemble import RandomForestClassifier\n",
    "\n",
    "# Initialize a Random Forest classifier with 100 trees\n",
    "forest = RandomForestClassifier(n_estimators = 100) \n",
    "\n",
    "# Fit the forest to the training set, using the bag of words as \n",
    "# features and the sentiment labels as the response variable\n",
    "#\n",
    "# This may take a few minutes to run\n",
    "forest = forest.fit( train_data_features, train[\"sentiment\"] )"
   ]
  },
  {
   "cell_type": "code",
   "execution_count": 30,
   "metadata": {},
   "outputs": [
    {
     "name": "stdout",
     "output_type": "stream",
     "text": [
      "(25000, 2)\n",
      "Cleaning and parsing the test set movie reviews...\n",
      "\n",
      "Review 1000 of 25000\n",
      "\n",
      "Review 2000 of 25000\n",
      "\n",
      "Review 3000 of 25000\n",
      "\n",
      "Review 4000 of 25000\n",
      "\n",
      "Review 5000 of 25000\n",
      "\n",
      "Review 6000 of 25000\n",
      "\n",
      "Review 7000 of 25000\n",
      "\n",
      "Review 8000 of 25000\n",
      "\n",
      "Review 9000 of 25000\n",
      "\n",
      "Review 10000 of 25000\n",
      "\n",
      "Review 11000 of 25000\n",
      "\n",
      "Review 12000 of 25000\n",
      "\n",
      "Review 13000 of 25000\n",
      "\n",
      "Review 14000 of 25000\n",
      "\n",
      "Review 15000 of 25000\n",
      "\n",
      "Review 16000 of 25000\n",
      "\n",
      "Review 17000 of 25000\n",
      "\n",
      "Review 18000 of 25000\n",
      "\n",
      "Review 19000 of 25000\n",
      "\n",
      "Review 20000 of 25000\n",
      "\n",
      "Review 21000 of 25000\n",
      "\n",
      "Review 22000 of 25000\n",
      "\n",
      "Review 23000 of 25000\n",
      "\n",
      "Review 24000 of 25000\n",
      "\n",
      "Review 25000 of 25000\n",
      "\n"
     ]
    }
   ],
   "source": [
    "# Read the test data\n",
    "test = pd.read_csv(\"testData.tsv\", header=0, delimiter=\"\\t\", \\\n",
    "                   quoting=3 )\n",
    "\n",
    "# Verify that there are 25,000 rows and 2 columns\n",
    "print (test.shape)\n",
    "\n",
    "# Create an empty list and append the clean reviews one by one\n",
    "num_reviews = len(test[\"review\"])\n",
    "clean_test_reviews = [] \n",
    "\n",
    "print(\"Cleaning and parsing the test set movie reviews...\\n\")\n",
    "for i in range(0,num_reviews):\n",
    "    if( (i+1) % 1000 == 0 ):\n",
    "        print (\"Review %d of %d\\n\" % (i+1, num_reviews))\n",
    "    clean_review = review_to_words( test[\"review\"][i] )\n",
    "    clean_test_reviews.append( clean_review )\n",
    "\n",
    "# Get a bag of words for the test set, and convert to a numpy array\n",
    "test_data_features = vectorizer.transform(clean_test_reviews)\n",
    "test_data_features = test_data_features.toarray()\n",
    "\n",
    "# Use the random forest to make sentiment label predictions\n",
    "result = forest.predict(test_data_features)\n",
    "\n",
    "# Copy the results to a pandas dataframe with an \"id\" column and\n",
    "# a \"sentiment\" column\n",
    "output = pd.DataFrame( data={\"id\":test[\"id\"], \"sentiment\":result} )\n",
    "\n",
    "# Use pandas to write the comma-separated output file\n",
    "output.to_csv( \"Bag_of_Words_model.csv\", index=False, quoting=3 )"
   ]
  },
  {
   "cell_type": "code",
   "execution_count": 1,
   "metadata": {},
   "outputs": [
    {
     "name": "stdout",
     "output_type": "stream",
     "text": [
      "Read 25000 labeled train reviews, 25000 labeled test reviews, and 50000 unlabeled reviews\n",
      "\n"
     ]
    }
   ],
   "source": [
    "import pandas as pd\n",
    "\n",
    "# Read data from files \n",
    "train = pd.read_csv( \"labeledTrainData.tsv\", header=0, \n",
    " delimiter=\"\\t\", quoting=3 )\n",
    "test = pd.read_csv( \"testData.tsv\", header=0, delimiter=\"\\t\", quoting=3 )\n",
    "unlabeled_train = pd.read_csv( \"unlabeledTrainData.tsv\", header=0, \n",
    " delimiter=\"\\t\", quoting=3 )\n",
    "\n",
    "# Verify the number of reviews that were read (100,000 in total)\n",
    "print (\"Read %d labeled train reviews, %d labeled test reviews, \" \\\n",
    " \"and %d unlabeled reviews\\n\" % (train[\"review\"].size,  \n",
    " test[\"review\"].size, unlabeled_train[\"review\"].size ))"
   ]
  },
  {
   "cell_type": "code",
   "execution_count": 2,
   "metadata": {},
   "outputs": [],
   "source": [
    "# Import various modules for string cleaning\n",
    "from bs4 import BeautifulSoup\n",
    "import re\n",
    "from nltk.corpus import stopwords\n",
    "\n",
    "def review_to_wordlist( review, remove_stopwords=False ):\n",
    "    # Function to convert a document to a sequence of words,\n",
    "    # optionally removing stop words.  Returns a list of words.\n",
    "    #\n",
    "    # 1. Remove HTML\n",
    "    review_text = BeautifulSoup(review).get_text()\n",
    "    #  \n",
    "    # 2. Remove non-letters\n",
    "    review_text = re.sub(\"[^a-zA-Z]\",\" \", review_text)\n",
    "    #\n",
    "    # 3. Convert words to lower case and split them\n",
    "    words = review_text.lower().split()\n",
    "    #\n",
    "    # 4. Optionally remove stop words (false by default)\n",
    "    if remove_stopwords:\n",
    "        stops = set(stopwords.words(\"english\"))\n",
    "        words = [w for w in words if not w in stops]\n",
    "    #\n",
    "    # 5. Return a list of words\n",
    "    return(words)"
   ]
  },
  {
   "cell_type": "code",
   "execution_count": 3,
   "metadata": {},
   "outputs": [],
   "source": [
    "# Download the punkt tokenizer for sentence splitting\n",
    "import nltk.data\n",
    "# nltk.download()   \n",
    "\n",
    "# Load the punkt tokenizer\n",
    "tokenizer = nltk.data.load('tokenizers/punkt/english.pickle')\n",
    "\n",
    "# Define a function to split a review into parsed sentences\n",
    "def review_to_sentences( review, tokenizer, remove_stopwords=False ):\n",
    "    # Function to split a review into parsed sentences. Returns a \n",
    "    # list of sentences, where each sentence is a list of words\n",
    "    #\n",
    "    # 1. Use the NLTK tokenizer to split the paragraph into sentences\n",
    "    raw_sentences = tokenizer.tokenize(review.strip())\n",
    "    #\n",
    "    # 2. Loop over each sentence\n",
    "    sentences = []\n",
    "    for raw_sentence in raw_sentences:\n",
    "        # If a sentence is empty, skip it\n",
    "        if len(raw_sentence) > 0:\n",
    "            # Otherwise, call review_to_wordlist to get a list of words\n",
    "            sentences.append( review_to_wordlist( raw_sentence, \\\n",
    "              remove_stopwords ))\n",
    "    #\n",
    "    # Return the list of sentences (each sentence is a list of words,\n",
    "    # so this returns a list of lists\n",
    "    return sentences"
   ]
  },
  {
   "cell_type": "code",
   "execution_count": 4,
   "metadata": {},
   "outputs": [
    {
     "name": "stdout",
     "output_type": "stream",
     "text": [
      "Parsing sentences from training set\n",
      "Parsing sentences from unlabeled set\n"
     ]
    }
   ],
   "source": [
    "import warnings\n",
    " \n",
    "warnings.filterwarnings('ignore')\n",
    "sentences = []  # Initialize an empty list of sentences\n",
    "\n",
    "print (\"Parsing sentences from training set\")\n",
    "for review in train[\"review\"]:\n",
    "    sentences += review_to_sentences(review, tokenizer)\n",
    "\n",
    "print (\"Parsing sentences from unlabeled set\")\n",
    "for review in unlabeled_train[\"review\"]:\n",
    "    sentences += review_to_sentences(review, tokenizer)"
   ]
  },
  {
   "cell_type": "code",
   "execution_count": 5,
   "metadata": {},
   "outputs": [
    {
     "data": {
      "text/plain": [
       "795538"
      ]
     },
     "execution_count": 5,
     "metadata": {},
     "output_type": "execute_result"
    }
   ],
   "source": [
    "len(sentences)"
   ]
  },
  {
   "cell_type": "code",
   "execution_count": 6,
   "metadata": {},
   "outputs": [
    {
     "data": {
      "text/plain": [
       "['with',\n",
       " 'all',\n",
       " 'this',\n",
       " 'stuff',\n",
       " 'going',\n",
       " 'down',\n",
       " 'at',\n",
       " 'the',\n",
       " 'moment',\n",
       " 'with',\n",
       " 'mj',\n",
       " 'i',\n",
       " 've',\n",
       " 'started',\n",
       " 'listening',\n",
       " 'to',\n",
       " 'his',\n",
       " 'music',\n",
       " 'watching',\n",
       " 'the',\n",
       " 'odd',\n",
       " 'documentary',\n",
       " 'here',\n",
       " 'and',\n",
       " 'there',\n",
       " 'watched',\n",
       " 'the',\n",
       " 'wiz',\n",
       " 'and',\n",
       " 'watched',\n",
       " 'moonwalker',\n",
       " 'again']"
      ]
     },
     "execution_count": 6,
     "metadata": {},
     "output_type": "execute_result"
    }
   ],
   "source": [
    "sentences[0]"
   ]
  },
  {
   "cell_type": "code",
   "execution_count": 7,
   "metadata": {},
   "outputs": [
    {
     "name": "stderr",
     "output_type": "stream",
     "text": [
      "2021-06-04 21:26:19,925 : INFO : collecting all words and their counts\n",
      "2021-06-04 21:26:19,926 : INFO : PROGRESS: at sentence #0, processed 0 words, keeping 0 word types\n",
      "2021-06-04 21:26:19,965 : INFO : PROGRESS: at sentence #10000, processed 225803 words, keeping 17776 word types\n",
      "2021-06-04 21:26:20,004 : INFO : PROGRESS: at sentence #20000, processed 451892 words, keeping 24948 word types\n",
      "2021-06-04 21:26:20,039 : INFO : PROGRESS: at sentence #30000, processed 671315 words, keeping 30034 word types\n",
      "2021-06-04 21:26:20,077 : INFO : PROGRESS: at sentence #40000, processed 897815 words, keeping 34348 word types\n",
      "2021-06-04 21:26:20,116 : INFO : PROGRESS: at sentence #50000, processed 1116963 words, keeping 37761 word types\n"
     ]
    },
    {
     "name": "stdout",
     "output_type": "stream",
     "text": [
      "Training model...\n"
     ]
    },
    {
     "name": "stderr",
     "output_type": "stream",
     "text": [
      "2021-06-04 21:26:20,155 : INFO : PROGRESS: at sentence #60000, processed 1338404 words, keeping 40723 word types\n",
      "2021-06-04 21:26:20,193 : INFO : PROGRESS: at sentence #70000, processed 1561580 words, keeping 43333 word types\n",
      "2021-06-04 21:26:20,231 : INFO : PROGRESS: at sentence #80000, processed 1780887 words, keeping 45714 word types\n",
      "2021-06-04 21:26:20,268 : INFO : PROGRESS: at sentence #90000, processed 2004996 words, keeping 48135 word types\n",
      "2021-06-04 21:26:20,306 : INFO : PROGRESS: at sentence #100000, processed 2226966 words, keeping 50207 word types\n",
      "2021-06-04 21:26:20,344 : INFO : PROGRESS: at sentence #110000, processed 2446580 words, keeping 52081 word types\n",
      "2021-06-04 21:26:20,383 : INFO : PROGRESS: at sentence #120000, processed 2668775 words, keeping 54119 word types\n",
      "2021-06-04 21:26:20,423 : INFO : PROGRESS: at sentence #130000, processed 2894303 words, keeping 55847 word types\n",
      "2021-06-04 21:26:20,460 : INFO : PROGRESS: at sentence #140000, processed 3107005 words, keeping 57346 word types\n",
      "2021-06-04 21:26:20,497 : INFO : PROGRESS: at sentence #150000, processed 3332627 words, keeping 59055 word types\n",
      "2021-06-04 21:26:20,535 : INFO : PROGRESS: at sentence #160000, processed 3555315 words, keeping 60617 word types\n",
      "2021-06-04 21:26:20,575 : INFO : PROGRESS: at sentence #170000, processed 3778655 words, keeping 62077 word types\n",
      "2021-06-04 21:26:20,612 : INFO : PROGRESS: at sentence #180000, processed 3999236 words, keeping 63496 word types\n",
      "2021-06-04 21:26:20,653 : INFO : PROGRESS: at sentence #190000, processed 4224449 words, keeping 64794 word types\n",
      "2021-06-04 21:26:20,691 : INFO : PROGRESS: at sentence #200000, processed 4448603 words, keeping 66087 word types\n",
      "2021-06-04 21:26:20,733 : INFO : PROGRESS: at sentence #210000, processed 4669967 words, keeping 67390 word types\n",
      "2021-06-04 21:26:20,774 : INFO : PROGRESS: at sentence #220000, processed 4894968 words, keeping 68697 word types\n",
      "2021-06-04 21:26:20,811 : INFO : PROGRESS: at sentence #230000, processed 5117545 words, keeping 69958 word types\n",
      "2021-06-04 21:26:20,855 : INFO : PROGRESS: at sentence #240000, processed 5345050 words, keeping 71167 word types\n",
      "2021-06-04 21:26:20,891 : INFO : PROGRESS: at sentence #250000, processed 5559165 words, keeping 72351 word types\n",
      "2021-06-04 21:26:20,929 : INFO : PROGRESS: at sentence #260000, processed 5779146 words, keeping 73478 word types\n",
      "2021-06-04 21:26:20,969 : INFO : PROGRESS: at sentence #270000, processed 6000435 words, keeping 74767 word types\n",
      "2021-06-04 21:26:21,010 : INFO : PROGRESS: at sentence #280000, processed 6226314 words, keeping 76369 word types\n",
      "2021-06-04 21:26:21,052 : INFO : PROGRESS: at sentence #290000, processed 6449474 words, keeping 77839 word types\n",
      "2021-06-04 21:26:21,092 : INFO : PROGRESS: at sentence #300000, processed 6674077 words, keeping 79171 word types\n",
      "2021-06-04 21:26:21,136 : INFO : PROGRESS: at sentence #310000, processed 6899391 words, keeping 80480 word types\n",
      "2021-06-04 21:26:21,173 : INFO : PROGRESS: at sentence #320000, processed 7124278 words, keeping 81808 word types\n",
      "2021-06-04 21:26:21,213 : INFO : PROGRESS: at sentence #330000, processed 7346021 words, keeping 83030 word types\n",
      "2021-06-04 21:26:21,253 : INFO : PROGRESS: at sentence #340000, processed 7575533 words, keeping 84280 word types\n",
      "2021-06-04 21:26:21,293 : INFO : PROGRESS: at sentence #350000, processed 7798803 words, keeping 85425 word types\n",
      "2021-06-04 21:26:21,336 : INFO : PROGRESS: at sentence #360000, processed 8019427 words, keeping 86596 word types\n",
      "2021-06-04 21:26:21,378 : INFO : PROGRESS: at sentence #370000, processed 8246619 words, keeping 87708 word types\n",
      "2021-06-04 21:26:21,417 : INFO : PROGRESS: at sentence #380000, processed 8471766 words, keeping 88878 word types\n",
      "2021-06-04 21:26:21,460 : INFO : PROGRESS: at sentence #390000, processed 8701497 words, keeping 89907 word types\n",
      "2021-06-04 21:26:21,499 : INFO : PROGRESS: at sentence #400000, processed 8924446 words, keeping 90916 word types\n",
      "2021-06-04 21:26:21,537 : INFO : PROGRESS: at sentence #410000, processed 9145796 words, keeping 91880 word types\n",
      "2021-06-04 21:26:21,576 : INFO : PROGRESS: at sentence #420000, processed 9366876 words, keeping 92912 word types\n",
      "2021-06-04 21:26:21,615 : INFO : PROGRESS: at sentence #430000, processed 9594413 words, keeping 93932 word types\n",
      "2021-06-04 21:26:21,655 : INFO : PROGRESS: at sentence #440000, processed 9821166 words, keeping 94906 word types\n",
      "2021-06-04 21:26:21,696 : INFO : PROGRESS: at sentence #450000, processed 10044928 words, keeping 96036 word types\n",
      "2021-06-04 21:26:21,736 : INFO : PROGRESS: at sentence #460000, processed 10277688 words, keeping 97088 word types\n",
      "2021-06-04 21:26:21,777 : INFO : PROGRESS: at sentence #470000, processed 10505613 words, keeping 97933 word types\n",
      "2021-06-04 21:26:21,818 : INFO : PROGRESS: at sentence #480000, processed 10725997 words, keeping 98862 word types\n",
      "2021-06-04 21:26:21,857 : INFO : PROGRESS: at sentence #490000, processed 10952741 words, keeping 99871 word types\n",
      "2021-06-04 21:26:21,898 : INFO : PROGRESS: at sentence #500000, processed 11174397 words, keeping 100765 word types\n",
      "2021-06-04 21:26:21,938 : INFO : PROGRESS: at sentence #510000, processed 11399672 words, keeping 101699 word types\n",
      "2021-06-04 21:26:21,975 : INFO : PROGRESS: at sentence #520000, processed 11623020 words, keeping 102598 word types\n",
      "2021-06-04 21:26:22,015 : INFO : PROGRESS: at sentence #530000, processed 11847418 words, keeping 103400 word types\n",
      "2021-06-04 21:26:22,056 : INFO : PROGRESS: at sentence #540000, processed 12072033 words, keeping 104265 word types\n",
      "2021-06-04 21:26:22,096 : INFO : PROGRESS: at sentence #550000, processed 12297571 words, keeping 105133 word types\n",
      "2021-06-04 21:26:22,135 : INFO : PROGRESS: at sentence #560000, processed 12518861 words, keeping 105997 word types\n",
      "2021-06-04 21:26:22,177 : INFO : PROGRESS: at sentence #570000, processed 12747916 words, keeping 106787 word types\n",
      "2021-06-04 21:26:22,217 : INFO : PROGRESS: at sentence #580000, processed 12969412 words, keeping 107665 word types\n",
      "2021-06-04 21:26:22,259 : INFO : PROGRESS: at sentence #590000, processed 13194937 words, keeping 108501 word types\n",
      "2021-06-04 21:26:22,302 : INFO : PROGRESS: at sentence #600000, processed 13417135 words, keeping 109218 word types\n",
      "2021-06-04 21:26:22,346 : INFO : PROGRESS: at sentence #610000, processed 13638158 words, keeping 110092 word types\n",
      "2021-06-04 21:26:22,393 : INFO : PROGRESS: at sentence #620000, processed 13864483 words, keeping 110837 word types\n",
      "2021-06-04 21:26:22,439 : INFO : PROGRESS: at sentence #630000, processed 14088769 words, keeping 111610 word types\n",
      "2021-06-04 21:26:22,482 : INFO : PROGRESS: at sentence #640000, processed 14309552 words, keeping 112416 word types\n",
      "2021-06-04 21:26:22,525 : INFO : PROGRESS: at sentence #650000, processed 14535308 words, keeping 113196 word types\n",
      "2021-06-04 21:26:22,571 : INFO : PROGRESS: at sentence #660000, processed 14758098 words, keeping 113945 word types\n",
      "2021-06-04 21:26:22,611 : INFO : PROGRESS: at sentence #670000, processed 14981482 words, keeping 114643 word types\n",
      "2021-06-04 21:26:22,656 : INFO : PROGRESS: at sentence #680000, processed 15206314 words, keeping 115354 word types\n",
      "2021-06-04 21:26:22,695 : INFO : PROGRESS: at sentence #690000, processed 15428507 words, keeping 116131 word types\n",
      "2021-06-04 21:26:22,739 : INFO : PROGRESS: at sentence #700000, processed 15657213 words, keeping 116943 word types\n",
      "2021-06-04 21:26:22,784 : INFO : PROGRESS: at sentence #710000, processed 15880202 words, keeping 117596 word types\n",
      "2021-06-04 21:26:22,829 : INFO : PROGRESS: at sentence #720000, processed 16105489 words, keeping 118221 word types\n",
      "2021-06-04 21:26:22,874 : INFO : PROGRESS: at sentence #730000, processed 16331870 words, keeping 118954 word types\n",
      "2021-06-04 21:26:22,919 : INFO : PROGRESS: at sentence #740000, processed 16552903 words, keeping 119668 word types\n",
      "2021-06-04 21:26:22,961 : INFO : PROGRESS: at sentence #750000, processed 16771230 words, keeping 120295 word types\n",
      "2021-06-04 21:26:23,008 : INFO : PROGRESS: at sentence #760000, processed 16990622 words, keeping 120930 word types\n",
      "2021-06-04 21:26:23,048 : INFO : PROGRESS: at sentence #770000, processed 17217759 words, keeping 121703 word types\n",
      "2021-06-04 21:26:23,090 : INFO : PROGRESS: at sentence #780000, processed 17447905 words, keeping 122402 word types\n",
      "2021-06-04 21:26:23,135 : INFO : PROGRESS: at sentence #790000, processed 17674981 words, keeping 123066 word types\n",
      "2021-06-04 21:26:23,157 : INFO : collected 123504 word types from a corpus of 17798082 raw words and 795538 sentences\n",
      "2021-06-04 21:26:23,158 : INFO : Loading a fresh vocabulary\n",
      "2021-06-04 21:26:23,812 : INFO : effective_min_count=40 retains 16490 unique words (13% of original 123504, drops 107014)\n",
      "2021-06-04 21:26:23,812 : INFO : effective_min_count=40 leaves 17238940 word corpus (96% of original 17798082, drops 559142)\n",
      "2021-06-04 21:26:23,852 : INFO : deleting the raw counts dictionary of 123504 items\n",
      "2021-06-04 21:26:23,854 : INFO : sample=0.001 downsamples 48 most-common words\n",
      "2021-06-04 21:26:23,855 : INFO : downsampling leaves estimated 12749658 word corpus (74.0% of prior 17238940)\n",
      "2021-06-04 21:26:23,894 : INFO : estimated required memory for 16490 words and 300 dimensions: 47821000 bytes\n",
      "2021-06-04 21:26:23,895 : INFO : resetting layer weights\n",
      "2021-06-04 21:26:26,367 : INFO : training model with 4 workers on 16490 vocabulary and 300 features, using sg=0 hs=0 sample=0.001 negative=5 window=10\n",
      "2021-06-04 21:26:27,375 : INFO : EPOCH 1 - PROGRESS: at 10.26% examples, 1299109 words/s, in_qsize 7, out_qsize 0\n",
      "2021-06-04 21:26:28,383 : INFO : EPOCH 1 - PROGRESS: at 20.96% examples, 1320229 words/s, in_qsize 8, out_qsize 0\n",
      "2021-06-04 21:26:29,386 : INFO : EPOCH 1 - PROGRESS: at 31.43% examples, 1321332 words/s, in_qsize 8, out_qsize 0\n",
      "2021-06-04 21:26:30,388 : INFO : EPOCH 1 - PROGRESS: at 42.02% examples, 1328779 words/s, in_qsize 7, out_qsize 0\n",
      "2021-06-04 21:26:31,389 : INFO : EPOCH 1 - PROGRESS: at 52.54% examples, 1331462 words/s, in_qsize 7, out_qsize 0\n",
      "2021-06-04 21:26:32,391 : INFO : EPOCH 1 - PROGRESS: at 62.94% examples, 1331798 words/s, in_qsize 7, out_qsize 0\n",
      "2021-06-04 21:26:33,392 : INFO : EPOCH 1 - PROGRESS: at 73.50% examples, 1334738 words/s, in_qsize 7, out_qsize 0\n",
      "2021-06-04 21:26:34,392 : INFO : EPOCH 1 - PROGRESS: at 84.06% examples, 1335799 words/s, in_qsize 7, out_qsize 0\n",
      "2021-06-04 21:26:35,402 : INFO : EPOCH 1 - PROGRESS: at 95.00% examples, 1340923 words/s, in_qsize 7, out_qsize 0\n",
      "2021-06-04 21:26:35,839 : INFO : worker thread finished; awaiting finish of 3 more threads\n",
      "2021-06-04 21:26:35,851 : INFO : worker thread finished; awaiting finish of 2 more threads\n",
      "2021-06-04 21:26:35,854 : INFO : worker thread finished; awaiting finish of 1 more threads\n",
      "2021-06-04 21:26:35,856 : INFO : worker thread finished; awaiting finish of 0 more threads\n",
      "2021-06-04 21:26:35,857 : INFO : EPOCH - 1 : training on 17798082 raw words (12751255 effective words) took 9.5s, 1344303 effective words/s\n",
      "2021-06-04 21:26:36,863 : INFO : EPOCH 2 - PROGRESS: at 10.87% examples, 1378650 words/s, in_qsize 7, out_qsize 0\n",
      "2021-06-04 21:26:37,864 : INFO : EPOCH 2 - PROGRESS: at 21.86% examples, 1383152 words/s, in_qsize 7, out_qsize 0\n",
      "2021-06-04 21:26:38,870 : INFO : EPOCH 2 - PROGRESS: at 32.86% examples, 1383474 words/s, in_qsize 8, out_qsize 0\n",
      "2021-06-04 21:26:39,871 : INFO : EPOCH 2 - PROGRESS: at 43.64% examples, 1382325 words/s, in_qsize 8, out_qsize 0\n",
      "2021-06-04 21:26:40,881 : INFO : EPOCH 2 - PROGRESS: at 54.54% examples, 1382140 words/s, in_qsize 8, out_qsize 0\n",
      "2021-06-04 21:26:41,883 : INFO : EPOCH 2 - PROGRESS: at 65.35% examples, 1382263 words/s, in_qsize 7, out_qsize 0\n",
      "2021-06-04 21:26:42,886 : INFO : EPOCH 2 - PROGRESS: at 76.16% examples, 1381576 words/s, in_qsize 7, out_qsize 0\n",
      "2021-06-04 21:26:43,888 : INFO : EPOCH 2 - PROGRESS: at 87.08% examples, 1382886 words/s, in_qsize 7, out_qsize 0\n",
      "2021-06-04 21:26:44,891 : INFO : EPOCH 2 - PROGRESS: at 98.11% examples, 1385413 words/s, in_qsize 7, out_qsize 0\n",
      "2021-06-04 21:26:45,046 : INFO : worker thread finished; awaiting finish of 3 more threads\n",
      "2021-06-04 21:26:45,049 : INFO : worker thread finished; awaiting finish of 2 more threads\n",
      "2021-06-04 21:26:45,059 : INFO : worker thread finished; awaiting finish of 1 more threads\n",
      "2021-06-04 21:26:45,061 : INFO : worker thread finished; awaiting finish of 0 more threads\n",
      "2021-06-04 21:26:45,062 : INFO : EPOCH - 2 : training on 17798082 raw words (12750379 effective words) took 9.2s, 1385972 effective words/s\n",
      "2021-06-04 21:26:46,075 : INFO : EPOCH 3 - PROGRESS: at 11.08% examples, 1398056 words/s, in_qsize 7, out_qsize 0\n",
      "2021-06-04 21:26:47,076 : INFO : EPOCH 3 - PROGRESS: at 22.32% examples, 1406339 words/s, in_qsize 7, out_qsize 0\n",
      "2021-06-04 21:26:48,079 : INFO : EPOCH 3 - PROGRESS: at 33.61% examples, 1412551 words/s, in_qsize 7, out_qsize 0\n",
      "2021-06-04 21:26:49,081 : INFO : EPOCH 3 - PROGRESS: at 44.79% examples, 1416537 words/s, in_qsize 8, out_qsize 0\n",
      "2021-06-04 21:26:50,081 : INFO : EPOCH 3 - PROGRESS: at 56.00% examples, 1420275 words/s, in_qsize 7, out_qsize 0\n",
      "2021-06-04 21:26:51,085 : INFO : EPOCH 3 - PROGRESS: at 67.18% examples, 1422377 words/s, in_qsize 7, out_qsize 0\n",
      "2021-06-04 21:26:52,090 : INFO : EPOCH 3 - PROGRESS: at 78.26% examples, 1420714 words/s, in_qsize 7, out_qsize 0\n",
      "2021-06-04 21:26:53,091 : INFO : EPOCH 3 - PROGRESS: at 89.42% examples, 1420657 words/s, in_qsize 7, out_qsize 0\n",
      "2021-06-04 21:26:54,026 : INFO : worker thread finished; awaiting finish of 3 more threads\n",
      "2021-06-04 21:26:54,032 : INFO : worker thread finished; awaiting finish of 2 more threads\n",
      "2021-06-04 21:26:54,036 : INFO : worker thread finished; awaiting finish of 1 more threads\n",
      "2021-06-04 21:26:54,041 : INFO : worker thread finished; awaiting finish of 0 more threads\n",
      "2021-06-04 21:26:54,043 : INFO : EPOCH - 3 : training on 17798082 raw words (12750755 effective words) took 9.0s, 1420584 effective words/s\n",
      "2021-06-04 21:26:55,051 : INFO : EPOCH 4 - PROGRESS: at 10.64% examples, 1347125 words/s, in_qsize 7, out_qsize 0\n",
      "2021-06-04 21:26:56,058 : INFO : EPOCH 4 - PROGRESS: at 21.52% examples, 1356037 words/s, in_qsize 7, out_qsize 0\n",
      "2021-06-04 21:26:57,066 : INFO : EPOCH 4 - PROGRESS: at 32.34% examples, 1357832 words/s, in_qsize 7, out_qsize 0\n",
      "2021-06-04 21:26:58,067 : INFO : EPOCH 4 - PROGRESS: at 43.08% examples, 1361166 words/s, in_qsize 7, out_qsize 0\n",
      "2021-06-04 21:26:59,069 : INFO : EPOCH 4 - PROGRESS: at 53.72% examples, 1360074 words/s, in_qsize 7, out_qsize 0\n",
      "2021-06-04 21:27:00,078 : INFO : EPOCH 4 - PROGRESS: at 64.50% examples, 1362508 words/s, in_qsize 7, out_qsize 0\n",
      "2021-06-04 21:27:01,081 : INFO : EPOCH 4 - PROGRESS: at 75.42% examples, 1366559 words/s, in_qsize 7, out_qsize 0\n",
      "2021-06-04 21:27:02,083 : INFO : EPOCH 4 - PROGRESS: at 86.37% examples, 1369819 words/s, in_qsize 7, out_qsize 0\n",
      "2021-06-04 21:27:03,084 : INFO : EPOCH 4 - PROGRESS: at 97.40% examples, 1374057 words/s, in_qsize 7, out_qsize 0\n",
      "2021-06-04 21:27:03,305 : INFO : worker thread finished; awaiting finish of 3 more threads\n",
      "2021-06-04 21:27:03,316 : INFO : worker thread finished; awaiting finish of 2 more threads\n",
      "2021-06-04 21:27:03,319 : INFO : worker thread finished; awaiting finish of 1 more threads\n",
      "2021-06-04 21:27:03,321 : INFO : worker thread finished; awaiting finish of 0 more threads\n",
      "2021-06-04 21:27:03,322 : INFO : EPOCH - 4 : training on 17798082 raw words (12752077 effective words) took 9.3s, 1375042 effective words/s\n",
      "2021-06-04 21:27:04,330 : INFO : EPOCH 5 - PROGRESS: at 11.08% examples, 1403759 words/s, in_qsize 7, out_qsize 0\n",
      "2021-06-04 21:27:05,331 : INFO : EPOCH 5 - PROGRESS: at 22.37% examples, 1412928 words/s, in_qsize 7, out_qsize 0\n",
      "2021-06-04 21:27:06,333 : INFO : EPOCH 5 - PROGRESS: at 33.72% examples, 1418984 words/s, in_qsize 7, out_qsize 0\n",
      "2021-06-04 21:27:07,336 : INFO : EPOCH 5 - PROGRESS: at 44.89% examples, 1420935 words/s, in_qsize 7, out_qsize 0\n",
      "2021-06-04 21:27:08,339 : INFO : EPOCH 5 - PROGRESS: at 56.05% examples, 1421900 words/s, in_qsize 7, out_qsize 0\n",
      "2021-06-04 21:27:09,342 : INFO : EPOCH 5 - PROGRESS: at 67.01% examples, 1419289 words/s, in_qsize 7, out_qsize 0\n",
      "2021-06-04 21:27:10,342 : INFO : EPOCH 5 - PROGRESS: at 77.94% examples, 1415708 words/s, in_qsize 7, out_qsize 0\n",
      "2021-06-04 21:27:11,344 : INFO : EPOCH 5 - PROGRESS: at 88.69% examples, 1409950 words/s, in_qsize 7, out_qsize 0\n",
      "2021-06-04 21:27:12,352 : INFO : EPOCH 5 - PROGRESS: at 99.27% examples, 1402289 words/s, in_qsize 7, out_qsize 0\n",
      "2021-06-04 21:27:12,400 : INFO : worker thread finished; awaiting finish of 3 more threads\n",
      "2021-06-04 21:27:12,403 : INFO : worker thread finished; awaiting finish of 2 more threads\n",
      "2021-06-04 21:27:12,412 : INFO : worker thread finished; awaiting finish of 1 more threads\n",
      "2021-06-04 21:27:12,416 : INFO : worker thread finished; awaiting finish of 0 more threads\n",
      "2021-06-04 21:27:12,417 : INFO : EPOCH - 5 : training on 17798082 raw words (12749196 effective words) took 9.1s, 1402426 effective words/s\n",
      "2021-06-04 21:27:12,417 : INFO : training on a 88990410 raw words (63753662 effective words) took 46.0s, 1384453 effective words/s\n",
      "2021-06-04 21:27:12,418 : INFO : precomputing L2-norms of word weight vectors\n",
      "2021-06-04 21:27:12,427 : INFO : saving Word2Vec object under 300features_40minwords_10context, separately None\n",
      "2021-06-04 21:27:12,428 : INFO : not storing attribute vectors_norm\n",
      "2021-06-04 21:27:12,428 : INFO : not storing attribute cum_table\n",
      "2021-06-04 21:27:12,923 : INFO : saved 300features_40minwords_10context\n"
     ]
    }
   ],
   "source": [
    "# Import the built-in logging module and configure it so that Word2Vec \n",
    "# creates nice output messages\n",
    "import logging\n",
    "logging.basicConfig(format='%(asctime)s : %(levelname)s : %(message)s',\\\n",
    "    level=logging.INFO)\n",
    "\n",
    "# Set values for various parameters\n",
    "num_features = 300    # Word vector dimensionality                      \n",
    "min_word_count = 40   # Minimum word count                        \n",
    "num_workers = 4       # Number of threads to run in parallel\n",
    "context = 10          # Context window size                                                                                    \n",
    "downsampling = 1e-3   # Downsample setting for frequent words\n",
    "\n",
    "# Initialize and train the model (this will take some time)\n",
    "from gensim.models import word2vec\n",
    "print(\"Training model...\")\n",
    "model = word2vec.Word2Vec(sentences, workers=num_workers, \\\n",
    "            size=num_features, min_count = min_word_count, \\\n",
    "            window = context, sample = downsampling)\n",
    "\n",
    "# If you don't plan to train the model any further, calling \n",
    "# init_sims will make the model much more memory-efficient.\n",
    "model.init_sims(replace=True)\n",
    "\n",
    "# It can be helpful to create a meaningful model name and \n",
    "# save the model for later use. You can load it later using Word2Vec.load()\n",
    "model_name = \"300features_40minwords_10context\"\n",
    "model.save(model_name)"
   ]
  },
  {
   "cell_type": "code",
   "execution_count": 8,
   "metadata": {},
   "outputs": [
    {
     "data": {
      "text/plain": [
       "'kitchen'"
      ]
     },
     "execution_count": 8,
     "metadata": {},
     "output_type": "execute_result"
    }
   ],
   "source": [
    "model.doesnt_match(\"man woman child kitchen\".split())"
   ]
  },
  {
   "cell_type": "code",
   "execution_count": 9,
   "metadata": {},
   "outputs": [
    {
     "data": {
      "text/plain": [
       "'berlin'"
      ]
     },
     "execution_count": 9,
     "metadata": {},
     "output_type": "execute_result"
    }
   ],
   "source": [
    "model.doesnt_match(\"france england germany berlin\".split())"
   ]
  },
  {
   "cell_type": "code",
   "execution_count": 10,
   "metadata": {},
   "outputs": [
    {
     "data": {
      "text/plain": [
       "[('woman', 0.6238400936126709),\n",
       " ('lady', 0.6088337898254395),\n",
       " ('lad', 0.5611076354980469),\n",
       " ('guy', 0.5323746800422668),\n",
       " ('men', 0.5145487785339355),\n",
       " ('person', 0.5060507655143738),\n",
       " ('soldier', 0.49426957964897156),\n",
       " ('businessman', 0.49197840690612793),\n",
       " ('farmer', 0.49106571078300476),\n",
       " ('monk', 0.4892861247062683)]"
      ]
     },
     "execution_count": 10,
     "metadata": {},
     "output_type": "execute_result"
    }
   ],
   "source": [
    "model.most_similar(\"man\")"
   ]
  },
  {
   "cell_type": "code",
   "execution_count": 11,
   "metadata": {},
   "outputs": [
    {
     "data": {
      "text/plain": [
       "[('terrible', 0.7800602316856384),\n",
       " ('horrible', 0.7519501447677612),\n",
       " ('atrocious', 0.747626543045044),\n",
       " ('abysmal', 0.733017086982727),\n",
       " ('dreadful', 0.7201575040817261),\n",
       " ('horrendous', 0.6953060030937195),\n",
       " ('appalling', 0.6828036308288574),\n",
       " ('horrid', 0.6756243705749512),\n",
       " ('lousy', 0.6348495483398438),\n",
       " ('laughable', 0.612129807472229)]"
      ]
     },
     "execution_count": 11,
     "metadata": {},
     "output_type": "execute_result"
    }
   ],
   "source": [
    "model.most_similar(\"awful\")"
   ]
  },
  {
   "cell_type": "code",
   "execution_count": 12,
   "metadata": {},
   "outputs": [
    {
     "name": "stderr",
     "output_type": "stream",
     "text": [
      "2021-06-04 21:27:29,229 : INFO : loading Word2Vec object from 300features_40minwords_10context\n",
      "2021-06-04 21:27:29,458 : INFO : loading wv recursively from 300features_40minwords_10context.wv.* with mmap=None\n",
      "2021-06-04 21:27:29,459 : INFO : setting ignored attribute vectors_norm to None\n",
      "2021-06-04 21:27:29,460 : INFO : loading vocabulary recursively from 300features_40minwords_10context.vocabulary.* with mmap=None\n",
      "2021-06-04 21:27:29,460 : INFO : loading trainables recursively from 300features_40minwords_10context.trainables.* with mmap=None\n",
      "2021-06-04 21:27:29,460 : INFO : setting ignored attribute cum_table to None\n",
      "2021-06-04 21:27:29,461 : INFO : loaded 300features_40minwords_10context\n"
     ]
    }
   ],
   "source": [
    "import warnings\n",
    "warnings.filterwarnings('ignore')\n",
    "from gensim.models import Word2Vec\n",
    "model = Word2Vec.load(\"300features_40minwords_10context\")"
   ]
  },
  {
   "cell_type": "code",
   "execution_count": 13,
   "metadata": {},
   "outputs": [
    {
     "data": {
      "text/plain": [
       "numpy.ndarray"
      ]
     },
     "execution_count": 13,
     "metadata": {},
     "output_type": "execute_result"
    }
   ],
   "source": [
    "type(model.wv.syn0)"
   ]
  },
  {
   "cell_type": "code",
   "execution_count": 14,
   "metadata": {},
   "outputs": [
    {
     "data": {
      "text/plain": [
       "(16490, 300)"
      ]
     },
     "execution_count": 14,
     "metadata": {},
     "output_type": "execute_result"
    }
   ],
   "source": [
    "model.wv.syn0.shape"
   ]
  },
  {
   "cell_type": "code",
   "execution_count": 15,
   "metadata": {},
   "outputs": [
    {
     "data": {
      "text/plain": [
       "array([ 0.01155262, -0.06974689,  0.02193213,  0.01882311,  0.07239231,\n",
       "        0.02555387, -0.04167244, -0.04506731,  0.0082048 , -0.00160182,\n",
       "        0.00097916, -0.16550702, -0.04596931, -0.07656915,  0.05774162,\n",
       "       -0.0645159 , -0.0401064 , -0.06983835, -0.06058469, -0.19495755,\n",
       "       -0.00679932, -0.00987752,  0.12553181, -0.06393372, -0.01182835,\n",
       "        0.02563845, -0.05681564,  0.00557134, -0.0213884 ,  0.13393936,\n",
       "       -0.01201836, -0.00627052, -0.06446987, -0.05798905, -0.00085368,\n",
       "        0.03403304, -0.08005442,  0.05622267, -0.08515465,  0.01992729,\n",
       "       -0.10421572,  0.03143555,  0.00640821,  0.12986352, -0.04146267,\n",
       "       -0.02825047,  0.00983439, -0.08400705, -0.08482826,  0.08790417,\n",
       "       -0.10134806,  0.03324741,  0.00727026, -0.03056319,  0.06372438,\n",
       "       -0.04270621,  0.04359162,  0.03106243,  0.00371791, -0.077023  ,\n",
       "        0.01069046,  0.07940302,  0.07375567,  0.02736806,  0.03230884,\n",
       "        0.10756782,  0.05078547,  0.08390188,  0.03038756, -0.04776966,\n",
       "       -0.03107963, -0.12915176, -0.06501511, -0.08833013,  0.02252649,\n",
       "        0.03668793,  0.0436685 ,  0.01811163,  0.05859325,  0.02122806,\n",
       "       -0.1277392 , -0.04615918,  0.05482044, -0.03477064,  0.06412713,\n",
       "       -0.01553472, -0.03090367,  0.07527878, -0.02436987,  0.08750055,\n",
       "        0.00136047, -0.0961827 ,  0.09266043,  0.06974296, -0.00880211,\n",
       "       -0.00943774, -0.00423998, -0.04793601,  0.08692077,  0.01291174,\n",
       "       -0.03148641,  0.00190276, -0.04119042, -0.03981374,  0.01812242,\n",
       "        0.05240343,  0.08189039, -0.03448975,  0.05943698, -0.05242636,\n",
       "       -0.04424268,  0.07310129, -0.01774495, -0.00310502, -0.00808617,\n",
       "        0.08913308, -0.10110803, -0.01172647, -0.04825786,  0.07482657,\n",
       "        0.08345911,  0.05913011, -0.01778517, -0.04043229, -0.01535737,\n",
       "        0.02376507,  0.01031097,  0.06830665, -0.01598659, -0.02867126,\n",
       "       -0.06094251, -0.04569229, -0.00046715, -0.0910809 , -0.02338284,\n",
       "       -0.00849575, -0.01155768,  0.01162431, -0.07559913,  0.02422545,\n",
       "       -0.00794077, -0.0717489 ,  0.0314641 ,  0.1621103 ,  0.01157646,\n",
       "        0.04895322,  0.03319504,  0.02823649,  0.0416055 , -0.00822735,\n",
       "       -0.07039411, -0.01492438,  0.05328716, -0.00403917,  0.04339087,\n",
       "       -0.00932343, -0.01077255, -0.07038702,  0.04671489, -0.04285151,\n",
       "        0.02149709,  0.00083586,  0.11645931, -0.10676362, -0.0500961 ,\n",
       "       -0.03185404,  0.02400281, -0.1627371 , -0.01099524, -0.04352986,\n",
       "       -0.12402218, -0.05445956, -0.05224344,  0.02857443, -0.07525224,\n",
       "        0.11128469,  0.06053009, -0.05567474,  0.04094212,  0.00956874,\n",
       "       -0.02773657,  0.08242011,  0.09964575,  0.04172513,  0.0803421 ,\n",
       "       -0.05575676, -0.02037963,  0.00153731, -0.01698614, -0.02730785,\n",
       "       -0.10119542,  0.02997362,  0.05490667, -0.01415639, -0.12665309,\n",
       "        0.00634261,  0.02646818,  0.06420868, -0.00833472,  0.00265624,\n",
       "        0.08259294,  0.01791883, -0.04607801,  0.08041669, -0.02581494,\n",
       "       -0.09625901, -0.03460917, -0.04019667,  0.06234891,  0.07831815,\n",
       "       -0.02146131, -0.05088109, -0.03233409, -0.05468097,  0.04468644,\n",
       "        0.0211173 , -0.02902404, -0.01715922, -0.02553089, -0.07094058,\n",
       "        0.08226988, -0.00904825, -0.02488283, -0.02051165, -0.01379657,\n",
       "       -0.09065858, -0.07243975, -0.04736283, -0.00550408,  0.00370297,\n",
       "       -0.04283575, -0.03131339,  0.05561989,  0.04744913,  0.07449578,\n",
       "       -0.06398356, -0.00969438, -0.05047928, -0.01855108, -0.05524449,\n",
       "       -0.0332392 , -0.02520358,  0.06819957,  0.05484173,  0.01276634,\n",
       "        0.00938032, -0.02002708,  0.09644289,  0.07981683,  0.06272551,\n",
       "       -0.04245532, -0.05452743,  0.06255908, -0.05697941, -0.04549966,\n",
       "        0.01144464,  0.06953408, -0.01700601,  0.06726846, -0.01818641,\n",
       "       -0.03055197,  0.02721638, -0.01577396, -0.07893703,  0.06255236,\n",
       "       -0.04929532, -0.05664269,  0.03421972, -0.03672736,  0.04397533,\n",
       "       -0.04149288,  0.00947134,  0.03439327,  0.00735091,  0.03274542,\n",
       "       -0.10759724, -0.01255004,  0.00229802, -0.07337922, -0.0241513 ,\n",
       "       -0.0412056 , -0.01289662,  0.00812542, -0.09328602,  0.01648894,\n",
       "       -0.03500217, -0.00080495,  0.11910187,  0.04292754, -0.05679109,\n",
       "        0.01708839,  0.07812983,  0.09276953, -0.12286367, -0.0058212 ,\n",
       "        0.00661669,  0.00362885,  0.04537389, -0.04551518, -0.04806783],\n",
       "      dtype=float32)"
      ]
     },
     "execution_count": 15,
     "metadata": {},
     "output_type": "execute_result"
    }
   ],
   "source": [
    "model[\"flower\"]"
   ]
  },
  {
   "cell_type": "code",
   "execution_count": 18,
   "metadata": {},
   "outputs": [],
   "source": [
    "import numpy as np  # Make sure that numpy is imported\n",
    "\n",
    "def makeFeatureVec(words, model, num_features):\n",
    "    # Function to average all of the word vectors in a given\n",
    "    # paragraph\n",
    "    #\n",
    "    # Pre-initialize an empty numpy array (for speed)\n",
    "    featureVec = np.zeros((num_features,),dtype=\"float32\")\n",
    "    #\n",
    "    nwords = 0.\n",
    "    # \n",
    "    # Index2word is a list that contains the names of the words in \n",
    "    # the model's vocabulary. Convert it to a set, for speed \n",
    "    index2word_set = set(model.wv.index2word)\n",
    "    #\n",
    "    # Loop over each word in the review and, if it is in the model's\n",
    "    # vocaublary, add its feature vector to the total\n",
    "    for word in words:\n",
    "        if word in index2word_set: \n",
    "            nwords = nwords + 1.\n",
    "            featureVec = np.add(featureVec,model[word])\n",
    "    # \n",
    "    # Divide the result by the number of words to get the average\n",
    "    featureVec = np.divide(featureVec,nwords)\n",
    "    return featureVec\n",
    "\n",
    "\n",
    "def getAvgFeatureVecs(reviews, model, num_features):\n",
    "    # Given a set of reviews (each one a list of words), calculate \n",
    "    # the average feature vector for each one and return a 2D numpy array \n",
    "    # \n",
    "    # Initialize a counter\n",
    "    counter = 0.\n",
    "    # \n",
    "    # Preallocate a 2D numpy array, for speed\n",
    "    reviewFeatureVecs = np.zeros((len(reviews),num_features),dtype=\"float32\")\n",
    "    # \n",
    "    # Loop through the reviews\n",
    "    for review in reviews:\n",
    "       #\n",
    "       # Print a status message every 1000th review\n",
    "       if counter%1000. == 0.:\n",
    "           print (\"Review %d of %d\" % (counter, len(reviews)))\n",
    "       # \n",
    "       # Call the function (defined above) that makes average feature vectors\n",
    "       reviewFeatureVecs[counter] = makeFeatureVec(review, model, \\\n",
    "           num_features)\n",
    "       #\n",
    "       # Increment the counter\n",
    "       counter = counter + 1.\n",
    "    return reviewFeatureVecs"
   ]
  }
 ],
 "metadata": {
  "kernelspec": {
   "display_name": "Python 3",
   "language": "python",
   "name": "python3"
  },
  "language_info": {
   "codemirror_mode": {
    "name": "ipython",
    "version": 3
   },
   "file_extension": ".py",
   "mimetype": "text/x-python",
   "name": "python",
   "nbconvert_exporter": "python",
   "pygments_lexer": "ipython3",
   "version": "3.8.5"
  }
 },
 "nbformat": 4,
 "nbformat_minor": 4
}
